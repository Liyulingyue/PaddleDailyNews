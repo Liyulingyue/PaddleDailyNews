{
 "cells": [
  {
   "cell_type": "code",
   "execution_count": 1,
   "id": "fde4af33-5559-4e84-8ec1-769019ac82ad",
   "metadata": {},
   "outputs": [],
   "source": [
    "from datetime import datetime\n",
    "from configure import *\n",
    "from loguru import logger\n",
    "\n",
    "from github_helper import CacheMode, GithubHelper\n",
    "from statistic_helper import StatisticHelper\n",
    "from layout_helper import LayoutHelper"
   ]
  },
  {
   "cell_type": "code",
   "execution_count": null,
   "id": "370fe04e-5972-41a0-9de1-4a828837185b",
   "metadata": {},
   "outputs": [],
   "source": [
    "def log_init():\n",
    "    # TODO(gouzil): 改个前缀\n",
    "    logger.add(\n",
    "        \"./logs/PaddleDailyNews.log\",\n",
    "        rotation=\"10MB\",\n",
    "        encoding=\"utf-8\",\n",
    "        enqueue=True,\n",
    "        retention=\"10d\",\n",
    "        level=\"DEBUG\",\n",
    "    )\n",
    "\n",
    "\n",
    "log_init()\n",
    "g_helper = GithubHelper(GITHUB_TOKEN)\n",
    "print(g_helper.get_user_name())\n",
    "g_helper.GetRepoList() # 获取仓库列表"
   ]
  },
  {
   "cell_type": "code",
   "execution_count": null,
   "id": "e7795c4d-a0a6-45c8-8609-6fa2d2cb1aff",
   "metadata": {},
   "outputs": [],
   "source": [
    "g_helper.RefreshData([CacheMode.PR, CacheMode.ISSUES],\n",
    "                     start_time=datetime(2023, 12, 1),\n",
    "                     repo_names = [\"paddle\"])"
   ]
  },
  {
   "cell_type": "code",
   "execution_count": 9,
   "id": "a672682b-4bbe-4dac-bcbb-e03c90f4a62b",
   "metadata": {},
   "outputs": [],
   "source": [
    "g_helper.get_ccashe()\n",
    "cache_pr = g_helper.get_ccashe(\"paddle\")\n",
    "cache_issue = g_helper.get_ccashe(\"paddle\", CacheMode.ISSUES)"
   ]
  },
  {
   "cell_type": "code",
   "execution_count": 46,
   "id": "07e76ed8-ce9b-4eed-9526-b7f9f6aa9265",
   "metadata": {},
   "outputs": [],
   "source": [
    "pr = cache_pr[0]"
   ]
  },
  {
   "cell_type": "code",
   "execution_count": 66,
   "id": "6c2d0f54-216b-4cfe-af61-bd14db5c64c1",
   "metadata": {},
   "outputs": [
    {
     "name": "stdout",
     "output_type": "stream",
     "text": [
      "\n",
      "    title: 【PIR OpTest Fix No.8】 fix test_shuffle_batch_op\n",
      "    user state: [Label(name=\"contributor\")]\n",
      "    content: <!-- Demo: https://github.com/PaddlePaddle/Paddle/pull/24810 -->\n",
      "### PR types\n",
      "<!-- One of [ New features | Bug fixes | Function optimization | Performance optimization | Breaking changes | Others ] -->\n",
      "Others\n",
      "### PR changes\n",
      "<!-- One of [ OPs | APIs | Docs | Others ] -->\n",
      "Others\n",
      "### Description\n",
      "<!-- Describe what you’ve done -->\n",
      "PIR Op单测修复\n",
      "修复单测 `test_shuffle_batch_op`\n",
      "修复后打开`FLAGS_enable_pir_in_executor`单测是否通过：是\n",
      "    changed_files: 8\n",
      "    add_lines: 67\n",
      "    delete_lines: 0\n",
      "    diff_details: https://github.com/PaddlePaddle/Paddle/pull/59631.diff \n",
      "    \n",
      "    \n"
     ]
    }
   ],
   "source": [
    "print(\n",
    "    f\"\"\"\n",
    "    title: {pr.title}\n",
    "    id: {pr.number}\n",
    "    user: {pr.user}\n",
    "    user state: {pr.labels}\n",
    "    content: {pr.body}\n",
    "    changed_files: {pr.changed_files}\n",
    "    add_lines: {pr.additions}\n",
    "    delete_lines: {pr.deletions}\n",
    "    diff_details: {pr.diff_url} \n",
    "    merged: {pr.merged}\n",
    "    \"\"\")"
   ]
  },
  {
   "cell_type": "code",
   "execution_count": 73,
   "id": "1ceea8c0-4780-4726-abd3-b8676e7d1afc",
   "metadata": {},
   "outputs": [
    {
     "name": "stdout",
     "output_type": "stream",
     "text": [
      "<bound method PullRequest.get_comment of PullRequest(title=\"【PIR OpTest Fix No.8】 fix test_shuffle_batch_op\", number=59631)>\n"
     ]
    }
   ],
   "source": [
    "print(pr.get_comment)"
   ]
  },
  {
   "cell_type": "code",
   "execution_count": null,
   "id": "02a3ccfc-a785-4e0d-a005-b682f20c4ff7",
   "metadata": {
    "scrolled": true
   },
   "outputs": [],
   "source": [
    "import requests\n",
    "r = requests.get(pr.diff_url)\n",
    "for line in r.text.split(\"diff --git\"):\n",
    "    print(\"**********************************\")\n",
    "    print(line)"
   ]
  },
  {
   "cell_type": "code",
   "execution_count": 91,
   "id": "b2cae8ce-8e10-4d8e-b0a4-bdc29b0a7007",
   "metadata": {},
   "outputs": [
    {
     "data": {
      "text/plain": [
       "[\"diff --git a/paddle/fluid/pir/dialect/op_generator/ops_api_gen.py b/paddle/fluid/pir/dialect/op_generator/ops_api_gen.py\\nindex 6f0a552b529d..9f0cef3241b8 100644\\n--- a/paddle/fluid/pir/dialect/op_generator/ops_api_gen.py\\n+++ b/paddle/fluid/pir/dialect/op_generator/ops_api_gen.py\\n@@ -123,6 +123,7 @@\\n     'seed',\\n     'send_v2',\\n     'shadow_feed',\\n+    'shuffle_batch',\\n     'sparse_momentum',\\n     'uniform_random_batch_size_like',\\n ]\\ndiff --git a/paddle/fluid/pir/dialect/operator/ir/ops.yaml b/pad\",\n",
       " 'kward : shuffle_batch_grad\\n+\\n - op : slice\\n   args : (Tensor input, int64_t[] axes, IntArray starts, IntArray ends, int64_t[] infer_flags, int64_t[] decrease_axis)\\n   output : Tensor\\ndiff --git a/paddle/fluid/pir/dialect/operator/ir/ops_backward.yaml b/paddle/fluid/pir/dialect/operator/ir/ops_backward.yaml\\nindex beba440b5b6d..e011efe752a6 100644\\n--- a/paddle/fluid/pir/dialect/operator/ir/ops_backward.yaml\\n+++ b/paddle/fluid/pir/dialect/operator/ir/ops_backward.yaml\\n@@ -895,6 +895,16 @@\\n     func',\n",
       " ' x, Tensor indices, int[] ksize, int[] strides, int[] padding,  IntArray output_size, str data_format) -> Tensor(out)\\n   args: (Tensor x, Tensor indices, Tensor out, Tensor out_grad, int[] ksize, int[] strides, int[] padding, IntArray output_size, str data_format)\\ndiff --git a/paddle/phi/api/yaml/op_compat.yaml b/paddle/phi/api/yaml/op_compat.yaml\\nindex 553df312fdec..b1ac12a417fe 100755\\n--- a/paddle/phi/api/yaml/op_compat.yaml\\n+++ b/paddle/phi/api/yaml/op_compat.yaml\\n@@ -2747,6 +2747,13 @@\\n     ',\n",
       " 'ferMeta(const MetaTensor& sorted_sequence,\\n   }\\n }\\n \\n+void ShuffleBatchInferMeta(const MetaTensor& x,\\n+                           const MetaTensor& seed,\\n+                           int startup_seed,\\n+                           MetaTensor* out,\\n+                           MetaTensor* shuffle_idx,\\n+                           MetaTensor* seed_out\\n+\\n+) {\\n+  out->share_dims(x);\\n+  out->share_lod(x);\\n+  seed_out->share_dims(seed);\\n+  seed_out->share_lod(seed);\\n+  shuffle_idx->set_dims(phi::make_ddim(',\n",
       " 'y.h b/paddle/phi/infermeta/binary.h\\nindex e7b646d66453..5421c0ac0a33 100644\\n--- a/paddle/phi/infermeta/binary.h\\n+++ b/paddle/phi/infermeta/binary.h\\n@@ -430,6 +430,20 @@ void SequenceMaskInferMeta(const MetaTensor& x,\\n                            int out_dtype,\\n                            MetaTensor* y);\\n \\n+void ShuffleBatchInferMeta(const MetaTensor& x,\\n+                           const MetaTensor& seed,\\n+                           int startup_seed,\\n+                           MetaTensor* out,\\n+ ',\n",
       " 'it a/test/white_list/pir_op_test_no_check_list b/test/white_list/pir_op_test_no_check_list\\nindex 99e67a1dc2d0..00d8f054df13 100644\\n--- a/test/white_list/pir_op_test_no_check_list\\n+++ b/test/white_list/pir_op_test_no_check_list\\n@@ -9,3 +9,4 @@ test_randperm_op\\n test_seed_op\\n test_uniform_random_bf16_op\\n test_uniform_random_inplace_op\\n+test_shuffle_batch_op\\ndiff --git a/test/white_list/pir_op_test_white_list b/test/white_list/pir_op_test_white_list\\nindex d1c3605ca618..14e30381cd28 100644\\n--- a/tes']"
      ]
     },
     "execution_count": 91,
     "metadata": {},
     "output_type": "execute_result"
    }
   ],
   "source": [
    "cut_str = [r.text[i:i+500] for i in range(0, len(r.text), 1000)]\n",
    "cut_str"
   ]
  },
  {
   "cell_type": "code",
   "execution_count": 21,
   "id": "9630a950-9b46-47f6-ab3d-b5d18e452007",
   "metadata": {},
   "outputs": [
    {
     "ename": "TypeError",
     "evalue": "dict.keys() takes no arguments (1 given)",
     "output_type": "error",
     "traceback": [
      "\u001b[1;31m---------------------------------------------------------------------------\u001b[0m",
      "\u001b[1;31mTypeError\u001b[0m                                 Traceback (most recent call last)",
      "Cell \u001b[1;32mIn[21], line 1\u001b[0m\n\u001b[1;32m----> 1\u001b[0m \u001b[43mcache\u001b[49m\u001b[38;5;241;43m.\u001b[39;49m\u001b[43mkeys\u001b[49m\u001b[43m(\u001b[49m\u001b[38;5;241;43m1\u001b[39;49m\u001b[43m)\u001b[49m\n",
      "\u001b[1;31mTypeError\u001b[0m: dict.keys() takes no arguments (1 given)"
     ]
    }
   ],
   "source": [
    "cache.keys()"
   ]
  },
  {
   "cell_type": "code",
   "execution_count": 21,
   "id": "78156165-f7a7-4bab-9046-22238f695ffe",
   "metadata": {},
   "outputs": [],
   "source": [
    "import json\n"
   ]
  },
  {
   "cell_type": "code",
   "execution_count": 22,
   "id": "35c1fc56-3093-4858-a749-e81afa4c69e1",
   "metadata": {},
   "outputs": [
    {
     "ename": "TypeError",
     "evalue": "Object of type PullRequest is not JSON serializable",
     "output_type": "error",
     "traceback": [
      "\u001b[1;31m---------------------------------------------------------------------------\u001b[0m",
      "\u001b[1;31mTypeError\u001b[0m                                 Traceback (most recent call last)",
      "Cell \u001b[1;32mIn[22], line 2\u001b[0m\n\u001b[0;32m      1\u001b[0m \u001b[38;5;28;01mwith\u001b[39;00m \u001b[38;5;28mopen\u001b[39m(\u001b[38;5;124m'\u001b[39m\u001b[38;5;124mcache.json\u001b[39m\u001b[38;5;124m'\u001b[39m,\u001b[38;5;124m'\u001b[39m\u001b[38;5;124mw\u001b[39m\u001b[38;5;124m'\u001b[39m) \u001b[38;5;28;01mas\u001b[39;00m f:\n\u001b[1;32m----> 2\u001b[0m     \u001b[43mjson\u001b[49m\u001b[38;5;241;43m.\u001b[39;49m\u001b[43mdump\u001b[49m\u001b[43m(\u001b[49m\u001b[43mcache\u001b[49m\u001b[43m,\u001b[49m\u001b[43m \u001b[49m\u001b[43mf\u001b[49m\u001b[43m)\u001b[49m\n",
      "File \u001b[1;32m~\\AppData\\Local\\Programs\\Python\\Python311\\Lib\\json\\__init__.py:179\u001b[0m, in \u001b[0;36mdump\u001b[1;34m(obj, fp, skipkeys, ensure_ascii, check_circular, allow_nan, cls, indent, separators, default, sort_keys, **kw)\u001b[0m\n\u001b[0;32m    173\u001b[0m     iterable \u001b[38;5;241m=\u001b[39m \u001b[38;5;28mcls\u001b[39m(skipkeys\u001b[38;5;241m=\u001b[39mskipkeys, ensure_ascii\u001b[38;5;241m=\u001b[39mensure_ascii,\n\u001b[0;32m    174\u001b[0m         check_circular\u001b[38;5;241m=\u001b[39mcheck_circular, allow_nan\u001b[38;5;241m=\u001b[39mallow_nan, indent\u001b[38;5;241m=\u001b[39mindent,\n\u001b[0;32m    175\u001b[0m         separators\u001b[38;5;241m=\u001b[39mseparators,\n\u001b[0;32m    176\u001b[0m         default\u001b[38;5;241m=\u001b[39mdefault, sort_keys\u001b[38;5;241m=\u001b[39msort_keys, \u001b[38;5;241m*\u001b[39m\u001b[38;5;241m*\u001b[39mkw)\u001b[38;5;241m.\u001b[39miterencode(obj)\n\u001b[0;32m    177\u001b[0m \u001b[38;5;66;03m# could accelerate with writelines in some versions of Python, at\u001b[39;00m\n\u001b[0;32m    178\u001b[0m \u001b[38;5;66;03m# a debuggability cost\u001b[39;00m\n\u001b[1;32m--> 179\u001b[0m \u001b[43m\u001b[49m\u001b[38;5;28;43;01mfor\u001b[39;49;00m\u001b[43m \u001b[49m\u001b[43mchunk\u001b[49m\u001b[43m \u001b[49m\u001b[38;5;129;43;01min\u001b[39;49;00m\u001b[43m \u001b[49m\u001b[43miterable\u001b[49m\u001b[43m:\u001b[49m\n\u001b[0;32m    180\u001b[0m \u001b[43m    \u001b[49m\u001b[43mfp\u001b[49m\u001b[38;5;241;43m.\u001b[39;49m\u001b[43mwrite\u001b[49m\u001b[43m(\u001b[49m\u001b[43mchunk\u001b[49m\u001b[43m)\u001b[49m\n",
      "File \u001b[1;32m~\\AppData\\Local\\Programs\\Python\\Python311\\Lib\\json\\encoder.py:432\u001b[0m, in \u001b[0;36m_make_iterencode.<locals>._iterencode\u001b[1;34m(o, _current_indent_level)\u001b[0m\n\u001b[0;32m    430\u001b[0m     \u001b[38;5;28;01myield from\u001b[39;00m _iterencode_list(o, _current_indent_level)\n\u001b[0;32m    431\u001b[0m \u001b[38;5;28;01melif\u001b[39;00m \u001b[38;5;28misinstance\u001b[39m(o, \u001b[38;5;28mdict\u001b[39m):\n\u001b[1;32m--> 432\u001b[0m     \u001b[38;5;28;01myield from\u001b[39;00m _iterencode_dict(o, _current_indent_level)\n\u001b[0;32m    433\u001b[0m \u001b[38;5;28;01melse\u001b[39;00m:\n\u001b[0;32m    434\u001b[0m     \u001b[38;5;28;01mif\u001b[39;00m markers \u001b[38;5;129;01mis\u001b[39;00m \u001b[38;5;129;01mnot\u001b[39;00m \u001b[38;5;28;01mNone\u001b[39;00m:\n",
      "File \u001b[1;32m~\\AppData\\Local\\Programs\\Python\\Python311\\Lib\\json\\encoder.py:406\u001b[0m, in \u001b[0;36m_make_iterencode.<locals>._iterencode_dict\u001b[1;34m(dct, _current_indent_level)\u001b[0m\n\u001b[0;32m    404\u001b[0m         \u001b[38;5;28;01melse\u001b[39;00m:\n\u001b[0;32m    405\u001b[0m             chunks \u001b[38;5;241m=\u001b[39m _iterencode(value, _current_indent_level)\n\u001b[1;32m--> 406\u001b[0m         \u001b[38;5;28;01myield from\u001b[39;00m chunks\n\u001b[0;32m    407\u001b[0m \u001b[38;5;28;01mif\u001b[39;00m newline_indent \u001b[38;5;129;01mis\u001b[39;00m \u001b[38;5;129;01mnot\u001b[39;00m \u001b[38;5;28;01mNone\u001b[39;00m:\n\u001b[0;32m    408\u001b[0m     _current_indent_level \u001b[38;5;241m-\u001b[39m\u001b[38;5;241m=\u001b[39m \u001b[38;5;241m1\u001b[39m\n",
      "File \u001b[1;32m~\\AppData\\Local\\Programs\\Python\\Python311\\Lib\\json\\encoder.py:326\u001b[0m, in \u001b[0;36m_make_iterencode.<locals>._iterencode_list\u001b[1;34m(lst, _current_indent_level)\u001b[0m\n\u001b[0;32m    324\u001b[0m         \u001b[38;5;28;01melse\u001b[39;00m:\n\u001b[0;32m    325\u001b[0m             chunks \u001b[38;5;241m=\u001b[39m _iterencode(value, _current_indent_level)\n\u001b[1;32m--> 326\u001b[0m         \u001b[38;5;28;01myield from\u001b[39;00m chunks\n\u001b[0;32m    327\u001b[0m \u001b[38;5;28;01mif\u001b[39;00m newline_indent \u001b[38;5;129;01mis\u001b[39;00m \u001b[38;5;129;01mnot\u001b[39;00m \u001b[38;5;28;01mNone\u001b[39;00m:\n\u001b[0;32m    328\u001b[0m     _current_indent_level \u001b[38;5;241m-\u001b[39m\u001b[38;5;241m=\u001b[39m \u001b[38;5;241m1\u001b[39m\n",
      "File \u001b[1;32m~\\AppData\\Local\\Programs\\Python\\Python311\\Lib\\json\\encoder.py:439\u001b[0m, in \u001b[0;36m_make_iterencode.<locals>._iterencode\u001b[1;34m(o, _current_indent_level)\u001b[0m\n\u001b[0;32m    437\u001b[0m         \u001b[38;5;28;01mraise\u001b[39;00m \u001b[38;5;167;01mValueError\u001b[39;00m(\u001b[38;5;124m\"\u001b[39m\u001b[38;5;124mCircular reference detected\u001b[39m\u001b[38;5;124m\"\u001b[39m)\n\u001b[0;32m    438\u001b[0m     markers[markerid] \u001b[38;5;241m=\u001b[39m o\n\u001b[1;32m--> 439\u001b[0m o \u001b[38;5;241m=\u001b[39m \u001b[43m_default\u001b[49m\u001b[43m(\u001b[49m\u001b[43mo\u001b[49m\u001b[43m)\u001b[49m\n\u001b[0;32m    440\u001b[0m \u001b[38;5;28;01myield from\u001b[39;00m _iterencode(o, _current_indent_level)\n\u001b[0;32m    441\u001b[0m \u001b[38;5;28;01mif\u001b[39;00m markers \u001b[38;5;129;01mis\u001b[39;00m \u001b[38;5;129;01mnot\u001b[39;00m \u001b[38;5;28;01mNone\u001b[39;00m:\n",
      "File \u001b[1;32m~\\AppData\\Local\\Programs\\Python\\Python311\\Lib\\json\\encoder.py:180\u001b[0m, in \u001b[0;36mJSONEncoder.default\u001b[1;34m(self, o)\u001b[0m\n\u001b[0;32m    161\u001b[0m \u001b[38;5;28;01mdef\u001b[39;00m \u001b[38;5;21mdefault\u001b[39m(\u001b[38;5;28mself\u001b[39m, o):\n\u001b[0;32m    162\u001b[0m \u001b[38;5;250m    \u001b[39m\u001b[38;5;124;03m\"\"\"Implement this method in a subclass such that it returns\u001b[39;00m\n\u001b[0;32m    163\u001b[0m \u001b[38;5;124;03m    a serializable object for ``o``, or calls the base implementation\u001b[39;00m\n\u001b[0;32m    164\u001b[0m \u001b[38;5;124;03m    (to raise a ``TypeError``).\u001b[39;00m\n\u001b[1;32m   (...)\u001b[0m\n\u001b[0;32m    178\u001b[0m \n\u001b[0;32m    179\u001b[0m \u001b[38;5;124;03m    \"\"\"\u001b[39;00m\n\u001b[1;32m--> 180\u001b[0m     \u001b[38;5;28;01mraise\u001b[39;00m \u001b[38;5;167;01mTypeError\u001b[39;00m(\u001b[38;5;124mf\u001b[39m\u001b[38;5;124m'\u001b[39m\u001b[38;5;124mObject of type \u001b[39m\u001b[38;5;132;01m{\u001b[39;00mo\u001b[38;5;241m.\u001b[39m\u001b[38;5;18m__class__\u001b[39m\u001b[38;5;241m.\u001b[39m\u001b[38;5;18m__name__\u001b[39m\u001b[38;5;132;01m}\u001b[39;00m\u001b[38;5;124m \u001b[39m\u001b[38;5;124m'\u001b[39m\n\u001b[0;32m    181\u001b[0m                     \u001b[38;5;124mf\u001b[39m\u001b[38;5;124m'\u001b[39m\u001b[38;5;124mis not JSON serializable\u001b[39m\u001b[38;5;124m'\u001b[39m)\n",
      "\u001b[1;31mTypeError\u001b[0m: Object of type PullRequest is not JSON serializable"
     ]
    }
   ],
   "source": [
    "with open('cache.json','w') as f:\n",
    "    json.dump(cache, f)"
   ]
  },
  {
   "cell_type": "markdown",
   "id": "bf95af67-9b1b-45d1-a9bf-fee851ba4ab7",
   "metadata": {},
   "source": [
    "# 仅测试样式"
   ]
  },
  {
   "cell_type": "code",
   "execution_count": 43,
   "id": "416479b2-e995-4a90-b5a0-c0e7ec3e5769",
   "metadata": {},
   "outputs": [],
   "source": [
    "from statistic_helper import StatisticHelper\n",
    "from layout_helper import LayoutHelper"
   ]
  },
  {
   "cell_type": "code",
   "execution_count": 44,
   "id": "363f8220-3690-47cd-9065-bbb4833d371e",
   "metadata": {},
   "outputs": [],
   "source": [
    "s_helper = StatisticHelper(date=(2023, 12, 1))\n",
    "s_helper.refresh_number(g_helper)"
   ]
  },
  {
   "cell_type": "code",
   "execution_count": 45,
   "id": "ef12d862-e72b-45d1-b3ba-78007fad71a3",
   "metadata": {},
   "outputs": [],
   "source": [
    "l_helper = LayoutHelper()\n",
    "l_helper.generate_layout(s_helper)\n",
    "l_helper.Export2MarkdownFile()"
   ]
  },
  {
   "cell_type": "code",
   "execution_count": null,
   "id": "4b3aa2bf-cb05-4698-9b3f-b00c74e905dc",
   "metadata": {},
   "outputs": [],
   "source": []
  },
  {
   "cell_type": "code",
   "execution_count": 42,
   "id": "caf5e2ee-7fac-4346-99fd-bede758f9cb7",
   "metadata": {},
   "outputs": [
    {
     "name": "stdout",
     "output_type": "stream",
     "text": [
      "layout_helper\n"
     ]
    }
   ],
   "source": [
    "import sys\n",
    "keys=[]\n",
    "for k in sys.modules.keys():\n",
    "    if \"layout_helper\" in k:\n",
    "        print(k)\n",
    "        keys.append(k)\n",
    "for k in keys:\n",
    "    del sys.modules[k]\n"
   ]
  },
  {
   "cell_type": "code",
   "execution_count": null,
   "id": "fb004eec-7ccb-4958-90b0-855d4174be73",
   "metadata": {},
   "outputs": [],
   "source": []
  }
 ],
 "metadata": {
  "kernelspec": {
   "display_name": "Python 3 (ipykernel)",
   "language": "python",
   "name": "python3"
  },
  "language_info": {
   "codemirror_mode": {
    "name": "ipython",
    "version": 3
   },
   "file_extension": ".py",
   "mimetype": "text/x-python",
   "name": "python",
   "nbconvert_exporter": "python",
   "pygments_lexer": "ipython3",
   "version": "3.11.6"
  }
 },
 "nbformat": 4,
 "nbformat_minor": 5
}
