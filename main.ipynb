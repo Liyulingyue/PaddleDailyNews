{
 "cells": [
  {
   "cell_type": "code",
   "execution_count": 1,
   "id": "fde4af33-5559-4e84-8ec1-769019ac82ad",
   "metadata": {},
   "outputs": [],
   "source": [
    "from datetime import datetime\n",
    "from configure import *\n",
    "from loguru import logger\n",
    "\n",
    "from github_helper import CacheMode, GithubHelper\n",
    "from statistic_helper import StatisticHelper\n",
    "from layout_helper import LayoutHelper"
   ]
  },
  {
   "cell_type": "code",
   "execution_count": 2,
   "id": "370fe04e-5972-41a0-9de1-4a828837185b",
   "metadata": {},
   "outputs": [
    {
     "name": "stderr",
     "output_type": "stream",
     "text": [
      "\u001b[32m2023-12-03 14:04:04.243\u001b[0m | \u001b[1mINFO    \u001b[0m | \u001b[36mgithub_helper\u001b[0m:\u001b[36mGetRepoList\u001b[0m:\u001b[36m105\u001b[0m - \u001b[1mstart get org repos: PaddlePaddle\u001b[0m\n"
     ]
    },
    {
     "name": "stdout",
     "output_type": "stream",
     "text": [
      "Yilingyelu\n"
     ]
    },
    {
     "name": "stderr",
     "output_type": "stream",
     "text": [
      "\u001b[32m2023-12-03 14:04:07.430\u001b[0m | \u001b[34m\u001b[1mDEBUG   \u001b[0m | \u001b[36mgithub_helper\u001b[0m:\u001b[36mGetRepoList\u001b[0m:\u001b[36m112\u001b[0m - \u001b[34m\u001b[1mwrite cache PaddlePaddle: Paddle\u001b[0m\n",
      "\u001b[32m2023-12-03 14:04:07.433\u001b[0m | \u001b[34m\u001b[1mDEBUG   \u001b[0m | \u001b[36mgithub_helper\u001b[0m:\u001b[36mGetRepoList\u001b[0m:\u001b[36m112\u001b[0m - \u001b[34m\u001b[1mwrite cache PaddlePaddle: VisionTools\u001b[0m\n",
      "\u001b[32m2023-12-03 14:04:07.434\u001b[0m | \u001b[34m\u001b[1mDEBUG   \u001b[0m | \u001b[36mgithub_helper\u001b[0m:\u001b[36mGetRepoList\u001b[0m:\u001b[36m112\u001b[0m - \u001b[34m\u001b[1mwrite cache PaddlePaddle: book\u001b[0m\n",
      "\u001b[32m2023-12-03 14:04:07.434\u001b[0m | \u001b[34m\u001b[1mDEBUG   \u001b[0m | \u001b[36mgithub_helper\u001b[0m:\u001b[36mGetRepoList\u001b[0m:\u001b[36m112\u001b[0m - \u001b[34m\u001b[1mwrite cache PaddlePaddle: talks\u001b[0m\n",
      "\u001b[32m2023-12-03 14:04:07.435\u001b[0m | \u001b[34m\u001b[1mDEBUG   \u001b[0m | \u001b[36mgithub_helper\u001b[0m:\u001b[36mGetRepoList\u001b[0m:\u001b[36m112\u001b[0m - \u001b[34m\u001b[1mwrite cache PaddlePaddle: models\u001b[0m\n",
      "\u001b[32m2023-12-03 14:04:07.435\u001b[0m | \u001b[34m\u001b[1mDEBUG   \u001b[0m | \u001b[36mgithub_helper\u001b[0m:\u001b[36mGetRepoList\u001b[0m:\u001b[36m112\u001b[0m - \u001b[34m\u001b[1mwrite cache PaddlePaddle: PaddleCloud\u001b[0m\n",
      "\u001b[32m2023-12-03 14:04:07.436\u001b[0m | \u001b[34m\u001b[1mDEBUG   \u001b[0m | \u001b[36mgithub_helper\u001b[0m:\u001b[36mGetRepoList\u001b[0m:\u001b[36m112\u001b[0m - \u001b[34m\u001b[1mwrite cache PaddlePaddle: mirrors-yapf\u001b[0m\n",
      "\u001b[32m2023-12-03 14:04:07.436\u001b[0m | \u001b[34m\u001b[1mDEBUG   \u001b[0m | \u001b[36mgithub_helper\u001b[0m:\u001b[36mGetRepoList\u001b[0m:\u001b[36m112\u001b[0m - \u001b[34m\u001b[1mwrite cache PaddlePaddle: recordio\u001b[0m\n",
      "\u001b[32m2023-12-03 14:04:07.437\u001b[0m | \u001b[34m\u001b[1mDEBUG   \u001b[0m | \u001b[36mgithub_helper\u001b[0m:\u001b[36mGetRepoList\u001b[0m:\u001b[36m112\u001b[0m - \u001b[34m\u001b[1mwrite cache PaddlePaddle: Mobile\u001b[0m\n",
      "\u001b[32m2023-12-03 14:04:07.438\u001b[0m | \u001b[34m\u001b[1mDEBUG   \u001b[0m | \u001b[36mgithub_helper\u001b[0m:\u001b[36mGetRepoList\u001b[0m:\u001b[36m112\u001b[0m - \u001b[34m\u001b[1mwrite cache PaddlePaddle: XWorld\u001b[0m\n",
      "\u001b[32m2023-12-03 14:04:07.438\u001b[0m | \u001b[34m\u001b[1mDEBUG   \u001b[0m | \u001b[36mgithub_helper\u001b[0m:\u001b[36mGetRepoList\u001b[0m:\u001b[36m112\u001b[0m - \u001b[34m\u001b[1mwrite cache PaddlePaddle: PaddlePaddle.org\u001b[0m\n",
      "\u001b[32m2023-12-03 14:04:07.439\u001b[0m | \u001b[34m\u001b[1mDEBUG   \u001b[0m | \u001b[36mgithub_helper\u001b[0m:\u001b[36mGetRepoList\u001b[0m:\u001b[36m112\u001b[0m - \u001b[34m\u001b[1mwrite cache PaddlePaddle: Paddle-Lite\u001b[0m\n",
      "\u001b[32m2023-12-03 14:04:07.439\u001b[0m | \u001b[34m\u001b[1mDEBUG   \u001b[0m | \u001b[36mgithub_helper\u001b[0m:\u001b[36mGetRepoList\u001b[0m:\u001b[36m112\u001b[0m - \u001b[34m\u001b[1mwrite cache PaddlePaddle: CLA\u001b[0m\n",
      "\u001b[32m2023-12-03 14:04:07.440\u001b[0m | \u001b[34m\u001b[1mDEBUG   \u001b[0m | \u001b[36mgithub_helper\u001b[0m:\u001b[36mGetRepoList\u001b[0m:\u001b[36m112\u001b[0m - \u001b[34m\u001b[1mwrite cache PaddlePaddle: PaddleSpeech\u001b[0m\n",
      "\u001b[32m2023-12-03 14:04:07.440\u001b[0m | \u001b[34m\u001b[1mDEBUG   \u001b[0m | \u001b[36mgithub_helper\u001b[0m:\u001b[36mGetRepoList\u001b[0m:\u001b[36m112\u001b[0m - \u001b[34m\u001b[1mwrite cache PaddlePaddle: VisualDL\u001b[0m\n",
      "\u001b[32m2023-12-03 14:04:07.441\u001b[0m | \u001b[34m\u001b[1mDEBUG   \u001b[0m | \u001b[36mgithub_helper\u001b[0m:\u001b[36mGetRepoList\u001b[0m:\u001b[36m112\u001b[0m - \u001b[34m\u001b[1mwrite cache PaddlePaddle: continuous_evaluation\u001b[0m\n",
      "\u001b[32m2023-12-03 14:04:07.441\u001b[0m | \u001b[34m\u001b[1mDEBUG   \u001b[0m | \u001b[36mgithub_helper\u001b[0m:\u001b[36mGetRepoList\u001b[0m:\u001b[36m112\u001b[0m - \u001b[34m\u001b[1mwrite cache PaddlePaddle: Paddle2ONNX\u001b[0m\n",
      "\u001b[32m2023-12-03 14:04:07.442\u001b[0m | \u001b[34m\u001b[1mDEBUG   \u001b[0m | \u001b[36mgithub_helper\u001b[0m:\u001b[36mGetRepoList\u001b[0m:\u001b[36m112\u001b[0m - \u001b[34m\u001b[1mwrite cache PaddlePaddle: paddle-ce-latest-kpis\u001b[0m\n",
      "\u001b[32m2023-12-03 14:04:07.442\u001b[0m | \u001b[34m\u001b[1mDEBUG   \u001b[0m | \u001b[36mgithub_helper\u001b[0m:\u001b[36mGetRepoList\u001b[0m:\u001b[36m112\u001b[0m - \u001b[34m\u001b[1mwrite cache PaddlePaddle: PARL\u001b[0m\n",
      "\u001b[32m2023-12-03 14:04:07.443\u001b[0m | \u001b[34m\u001b[1mDEBUG   \u001b[0m | \u001b[36mgithub_helper\u001b[0m:\u001b[36mGetRepoList\u001b[0m:\u001b[36m112\u001b[0m - \u001b[34m\u001b[1mwrite cache PaddlePaddle: Anakin\u001b[0m\n",
      "\u001b[32m2023-12-03 14:04:07.443\u001b[0m | \u001b[34m\u001b[1mDEBUG   \u001b[0m | \u001b[36mgithub_helper\u001b[0m:\u001b[36mGetRepoList\u001b[0m:\u001b[36m112\u001b[0m - \u001b[34m\u001b[1mwrite cache PaddlePaddle: docs\u001b[0m\n",
      "\u001b[32m2023-12-03 14:04:07.444\u001b[0m | \u001b[34m\u001b[1mDEBUG   \u001b[0m | \u001b[36mgithub_helper\u001b[0m:\u001b[36mGetRepoList\u001b[0m:\u001b[36m112\u001b[0m - \u001b[34m\u001b[1mwrite cache PaddlePaddle: tape\u001b[0m\n",
      "\u001b[32m2023-12-03 14:04:07.445\u001b[0m | \u001b[34m\u001b[1mDEBUG   \u001b[0m | \u001b[36mgithub_helper\u001b[0m:\u001b[36mGetRepoList\u001b[0m:\u001b[36m112\u001b[0m - \u001b[34m\u001b[1mwrite cache PaddlePaddle: PaddleFleetX\u001b[0m\n",
      "\u001b[32m2023-12-03 14:04:07.445\u001b[0m | \u001b[34m\u001b[1mDEBUG   \u001b[0m | \u001b[36mgithub_helper\u001b[0m:\u001b[36mGetRepoList\u001b[0m:\u001b[36m112\u001b[0m - \u001b[34m\u001b[1mwrite cache PaddlePaddle: PaddleHub\u001b[0m\n",
      "\u001b[32m2023-12-03 14:04:07.445\u001b[0m | \u001b[34m\u001b[1mDEBUG   \u001b[0m | \u001b[36mgithub_helper\u001b[0m:\u001b[36mGetRepoList\u001b[0m:\u001b[36m112\u001b[0m - \u001b[34m\u001b[1mwrite cache PaddlePaddle: X2Paddle\u001b[0m\n",
      "\u001b[32m2023-12-03 14:04:07.446\u001b[0m | \u001b[34m\u001b[1mDEBUG   \u001b[0m | \u001b[36mgithub_helper\u001b[0m:\u001b[36mGetRepoList\u001b[0m:\u001b[36m112\u001b[0m - \u001b[34m\u001b[1mwrite cache PaddlePaddle: AutoDL\u001b[0m\n",
      "\u001b[32m2023-12-03 14:04:07.446\u001b[0m | \u001b[34m\u001b[1mDEBUG   \u001b[0m | \u001b[36mgithub_helper\u001b[0m:\u001b[36mGetRepoList\u001b[0m:\u001b[36m112\u001b[0m - \u001b[34m\u001b[1mwrite cache PaddlePaddle: benchmark\u001b[0m\n",
      "\u001b[32m2023-12-03 14:04:07.447\u001b[0m | \u001b[34m\u001b[1mDEBUG   \u001b[0m | \u001b[36mgithub_helper\u001b[0m:\u001b[36mGetRepoList\u001b[0m:\u001b[36m112\u001b[0m - \u001b[34m\u001b[1mwrite cache PaddlePaddle: ERNIE\u001b[0m\n",
      "\u001b[32m2023-12-03 14:04:07.448\u001b[0m | \u001b[34m\u001b[1mDEBUG   \u001b[0m | \u001b[36mgithub_helper\u001b[0m:\u001b[36mGetRepoList\u001b[0m:\u001b[36m112\u001b[0m - \u001b[34m\u001b[1mwrite cache PaddlePaddle: Serving\u001b[0m\n",
      "\u001b[32m2023-12-03 14:04:07.448\u001b[0m | \u001b[34m\u001b[1mDEBUG   \u001b[0m | \u001b[36mgithub_helper\u001b[0m:\u001b[36mGetRepoList\u001b[0m:\u001b[36m112\u001b[0m - \u001b[34m\u001b[1mwrite cache PaddlePaddle: any\u001b[0m\n",
      "\u001b[32m2023-12-03 14:04:07.449\u001b[0m | \u001b[34m\u001b[1mDEBUG   \u001b[0m | \u001b[36mgithub_helper\u001b[0m:\u001b[36mGetRepoList\u001b[0m:\u001b[36m112\u001b[0m - \u001b[34m\u001b[1mwrite cache PaddlePaddle: PGL\u001b[0m\n",
      "\u001b[32m2023-12-03 14:04:07.449\u001b[0m | \u001b[34m\u001b[1mDEBUG   \u001b[0m | \u001b[36mgithub_helper\u001b[0m:\u001b[36mGetRepoList\u001b[0m:\u001b[36m112\u001b[0m - \u001b[34m\u001b[1mwrite cache PaddlePaddle: MetaGym\u001b[0m\n",
      "\u001b[32m2023-12-03 14:04:07.450\u001b[0m | \u001b[34m\u001b[1mDEBUG   \u001b[0m | \u001b[36mgithub_helper\u001b[0m:\u001b[36mGetRepoList\u001b[0m:\u001b[36m112\u001b[0m - \u001b[34m\u001b[1mwrite cache PaddlePaddle: Paddle-Lite-Demo\u001b[0m\n",
      "\u001b[32m2023-12-03 14:04:07.451\u001b[0m | \u001b[34m\u001b[1mDEBUG   \u001b[0m | \u001b[36mgithub_helper\u001b[0m:\u001b[36mGetRepoList\u001b[0m:\u001b[36m112\u001b[0m - \u001b[34m\u001b[1mwrite cache PaddlePaddle: epep\u001b[0m\n",
      "\u001b[32m2023-12-03 14:04:07.451\u001b[0m | \u001b[34m\u001b[1mDEBUG   \u001b[0m | \u001b[36mgithub_helper\u001b[0m:\u001b[36mGetRepoList\u001b[0m:\u001b[36m112\u001b[0m - \u001b[34m\u001b[1mwrite cache PaddlePaddle: examples\u001b[0m\n",
      "\u001b[32m2023-12-03 14:04:07.452\u001b[0m | \u001b[34m\u001b[1mDEBUG   \u001b[0m | \u001b[36mgithub_helper\u001b[0m:\u001b[36mGetRepoList\u001b[0m:\u001b[36m112\u001b[0m - \u001b[34m\u001b[1mwrite cache PaddlePaddle: PaddleSeg\u001b[0m\n",
      "\u001b[32m2023-12-03 14:04:07.452\u001b[0m | \u001b[34m\u001b[1mDEBUG   \u001b[0m | \u001b[36mgithub_helper\u001b[0m:\u001b[36mGetRepoList\u001b[0m:\u001b[36m112\u001b[0m - \u001b[34m\u001b[1mwrite cache PaddlePaddle: PALM\u001b[0m\n",
      "\u001b[32m2023-12-03 14:04:07.452\u001b[0m | \u001b[34m\u001b[1mDEBUG   \u001b[0m | \u001b[36mgithub_helper\u001b[0m:\u001b[36mGetRepoList\u001b[0m:\u001b[36m112\u001b[0m - \u001b[34m\u001b[1mwrite cache PaddlePaddle: PaddleFL\u001b[0m\n",
      "\u001b[32m2023-12-03 14:04:07.452\u001b[0m | \u001b[34m\u001b[1mDEBUG   \u001b[0m | \u001b[36mgithub_helper\u001b[0m:\u001b[36mGetRepoList\u001b[0m:\u001b[36m112\u001b[0m - \u001b[34m\u001b[1mwrite cache PaddlePaddle: PaddleDetection\u001b[0m\n",
      "\u001b[32m2023-12-03 14:04:07.453\u001b[0m | \u001b[34m\u001b[1mDEBUG   \u001b[0m | \u001b[36mgithub_helper\u001b[0m:\u001b[36mGetRepoList\u001b[0m:\u001b[36m112\u001b[0m - \u001b[34m\u001b[1mwrite cache PaddlePaddle: PaddleCraft\u001b[0m\n",
      "\u001b[32m2023-12-03 14:04:07.453\u001b[0m | \u001b[34m\u001b[1mDEBUG   \u001b[0m | \u001b[36mgithub_helper\u001b[0m:\u001b[36mGetRepoList\u001b[0m:\u001b[36m112\u001b[0m - \u001b[34m\u001b[1mwrite cache PaddlePaddle: ElasticCTR\u001b[0m\n",
      "\u001b[32m2023-12-03 14:04:07.454\u001b[0m | \u001b[34m\u001b[1mDEBUG   \u001b[0m | \u001b[36mgithub_helper\u001b[0m:\u001b[36mGetRepoList\u001b[0m:\u001b[36m112\u001b[0m - \u001b[34m\u001b[1mwrite cache PaddlePaddle: awesome-DeepLearning\u001b[0m\n",
      "\u001b[32m2023-12-03 14:04:07.455\u001b[0m | \u001b[34m\u001b[1mDEBUG   \u001b[0m | \u001b[36mgithub_helper\u001b[0m:\u001b[36mGetRepoList\u001b[0m:\u001b[36m112\u001b[0m - \u001b[34m\u001b[1mwrite cache PaddlePaddle: PLSC\u001b[0m\n",
      "\u001b[32m2023-12-03 14:04:07.455\u001b[0m | \u001b[34m\u001b[1mDEBUG   \u001b[0m | \u001b[36mgithub_helper\u001b[0m:\u001b[36mGetRepoList\u001b[0m:\u001b[36m112\u001b[0m - \u001b[34m\u001b[1mwrite cache PaddlePaddle: PaddleSlim\u001b[0m\n",
      "\u001b[32m2023-12-03 14:04:07.455\u001b[0m | \u001b[34m\u001b[1mDEBUG   \u001b[0m | \u001b[36mgithub_helper\u001b[0m:\u001b[36mGetRepoList\u001b[0m:\u001b[36m112\u001b[0m - \u001b[34m\u001b[1mwrite cache PaddlePaddle: hapi\u001b[0m\n",
      "\u001b[32m2023-12-03 14:04:07.455\u001b[0m | \u001b[34m\u001b[1mDEBUG   \u001b[0m | \u001b[36mgithub_helper\u001b[0m:\u001b[36mGetRepoList\u001b[0m:\u001b[36m112\u001b[0m - \u001b[34m\u001b[1mwrite cache PaddlePaddle: CINN\u001b[0m\n",
      "\u001b[32m2023-12-03 14:04:07.456\u001b[0m | \u001b[34m\u001b[1mDEBUG   \u001b[0m | \u001b[36mgithub_helper\u001b[0m:\u001b[36mGetRepoList\u001b[0m:\u001b[36m112\u001b[0m - \u001b[34m\u001b[1mwrite cache PaddlePaddle: Research\u001b[0m\n",
      "\u001b[32m2023-12-03 14:04:07.456\u001b[0m | \u001b[34m\u001b[1mDEBUG   \u001b[0m | \u001b[36mgithub_helper\u001b[0m:\u001b[36mGetRepoList\u001b[0m:\u001b[36m112\u001b[0m - \u001b[34m\u001b[1mwrite cache PaddlePaddle: Contrib\u001b[0m\n",
      "\u001b[32m2023-12-03 14:04:07.457\u001b[0m | \u001b[34m\u001b[1mDEBUG   \u001b[0m | \u001b[36mgithub_helper\u001b[0m:\u001b[36mGetRepoList\u001b[0m:\u001b[36m112\u001b[0m - \u001b[34m\u001b[1mwrite cache PaddlePaddle: Parakeet\u001b[0m\n",
      "\u001b[32m2023-12-03 14:04:07.457\u001b[0m | \u001b[34m\u001b[1mDEBUG   \u001b[0m | \u001b[36mgithub_helper\u001b[0m:\u001b[36mGetRepoList\u001b[0m:\u001b[36m112\u001b[0m - \u001b[34m\u001b[1mwrite cache PaddlePaddle: continuous_integration\u001b[0m\n",
      "\u001b[32m2023-12-03 14:04:07.458\u001b[0m | \u001b[34m\u001b[1mDEBUG   \u001b[0m | \u001b[36mgithub_helper\u001b[0m:\u001b[36mGetRepoList\u001b[0m:\u001b[36m112\u001b[0m - \u001b[34m\u001b[1mwrite cache PaddlePaddle: PaddleX\u001b[0m\n",
      "\u001b[32m2023-12-03 14:04:07.458\u001b[0m | \u001b[34m\u001b[1mDEBUG   \u001b[0m | \u001b[36mgithub_helper\u001b[0m:\u001b[36mGetRepoList\u001b[0m:\u001b[36m112\u001b[0m - \u001b[34m\u001b[1mwrite cache PaddlePaddle: Paddle.js\u001b[0m\n",
      "\u001b[32m2023-12-03 14:04:07.459\u001b[0m | \u001b[34m\u001b[1mDEBUG   \u001b[0m | \u001b[36mgithub_helper\u001b[0m:\u001b[36mGetRepoList\u001b[0m:\u001b[36m112\u001b[0m - \u001b[34m\u001b[1mwrite cache PaddlePaddle: PaddleClas\u001b[0m\n",
      "\u001b[32m2023-12-03 14:04:07.459\u001b[0m | \u001b[34m\u001b[1mDEBUG   \u001b[0m | \u001b[36mgithub_helper\u001b[0m:\u001b[36mGetRepoList\u001b[0m:\u001b[36m112\u001b[0m - \u001b[34m\u001b[1mwrite cache PaddlePaddle: Paddle-bot\u001b[0m\n",
      "\u001b[32m2023-12-03 14:04:07.460\u001b[0m | \u001b[34m\u001b[1mDEBUG   \u001b[0m | \u001b[36mgithub_helper\u001b[0m:\u001b[36mGetRepoList\u001b[0m:\u001b[36m112\u001b[0m - \u001b[34m\u001b[1mwrite cache PaddlePaddle: PaddleRec\u001b[0m\n",
      "\u001b[32m2023-12-03 14:04:07.460\u001b[0m | \u001b[34m\u001b[1mDEBUG   \u001b[0m | \u001b[36mgithub_helper\u001b[0m:\u001b[36mGetRepoList\u001b[0m:\u001b[36m112\u001b[0m - \u001b[34m\u001b[1mwrite cache PaddlePaddle: Paddle-Inference-Demo\u001b[0m\n",
      "\u001b[32m2023-12-03 14:04:07.461\u001b[0m | \u001b[34m\u001b[1mDEBUG   \u001b[0m | \u001b[36mgithub_helper\u001b[0m:\u001b[36mGetRepoList\u001b[0m:\u001b[36m112\u001b[0m - \u001b[34m\u001b[1mwrite cache PaddlePaddle: PaddleOCR\u001b[0m\n",
      "\u001b[32m2023-12-03 14:04:07.461\u001b[0m | \u001b[34m\u001b[1mDEBUG   \u001b[0m | \u001b[36mgithub_helper\u001b[0m:\u001b[36mGetRepoList\u001b[0m:\u001b[36m112\u001b[0m - \u001b[34m\u001b[1mwrite cache PaddlePaddle: Quantum\u001b[0m\n",
      "\u001b[32m2023-12-03 14:04:07.462\u001b[0m | \u001b[34m\u001b[1mDEBUG   \u001b[0m | \u001b[36mgithub_helper\u001b[0m:\u001b[36mGetRepoList\u001b[0m:\u001b[36m112\u001b[0m - \u001b[34m\u001b[1mwrite cache PaddlePaddle: PaddleGAN\u001b[0m\n",
      "\u001b[32m2023-12-03 14:04:07.462\u001b[0m | \u001b[34m\u001b[1mDEBUG   \u001b[0m | \u001b[36mgithub_helper\u001b[0m:\u001b[36mGetRepoList\u001b[0m:\u001b[36m112\u001b[0m - \u001b[34m\u001b[1mwrite cache PaddlePaddle: InterpretDL\u001b[0m\n",
      "\u001b[32m2023-12-03 14:04:07.462\u001b[0m | \u001b[34m\u001b[1mDEBUG   \u001b[0m | \u001b[36mgithub_helper\u001b[0m:\u001b[36mGetRepoList\u001b[0m:\u001b[36m112\u001b[0m - \u001b[34m\u001b[1mwrite cache PaddlePaddle: Knover\u001b[0m\n",
      "\u001b[32m2023-12-03 14:04:07.463\u001b[0m | \u001b[34m\u001b[1mDEBUG   \u001b[0m | \u001b[36mgithub_helper\u001b[0m:\u001b[36mGetRepoList\u001b[0m:\u001b[36m112\u001b[0m - \u001b[34m\u001b[1mwrite cache PaddlePaddle: paddle_upgrade_tool\u001b[0m\n",
      "\u001b[32m2023-12-03 14:04:07.463\u001b[0m | \u001b[34m\u001b[1mDEBUG   \u001b[0m | \u001b[36mgithub_helper\u001b[0m:\u001b[36mGetRepoList\u001b[0m:\u001b[36m112\u001b[0m - \u001b[34m\u001b[1mwrite cache PaddlePaddle: community\u001b[0m\n",
      "\u001b[32m2023-12-03 14:04:07.465\u001b[0m | \u001b[34m\u001b[1mDEBUG   \u001b[0m | \u001b[36mgithub_helper\u001b[0m:\u001b[36mGetRepoList\u001b[0m:\u001b[36m112\u001b[0m - \u001b[34m\u001b[1mwrite cache PaddlePaddle: LiteKit\u001b[0m\n",
      "\u001b[32m2023-12-03 14:04:07.465\u001b[0m | \u001b[34m\u001b[1mDEBUG   \u001b[0m | \u001b[36mgithub_helper\u001b[0m:\u001b[36mGetRepoList\u001b[0m:\u001b[36m112\u001b[0m - \u001b[34m\u001b[1mwrite cache PaddlePaddle: PaddleVideo\u001b[0m\n",
      "\u001b[32m2023-12-03 14:04:07.466\u001b[0m | \u001b[34m\u001b[1mDEBUG   \u001b[0m | \u001b[36mgithub_helper\u001b[0m:\u001b[36mGetRepoList\u001b[0m:\u001b[36m112\u001b[0m - \u001b[34m\u001b[1mwrite cache PaddlePaddle: PaddleHelix\u001b[0m\n",
      "\u001b[32m2023-12-03 14:04:07.466\u001b[0m | \u001b[34m\u001b[1mDEBUG   \u001b[0m | \u001b[36mgithub_helper\u001b[0m:\u001b[36mGetRepoList\u001b[0m:\u001b[36m112\u001b[0m - \u001b[34m\u001b[1mwrite cache PaddlePaddle: PaddleRobotics\u001b[0m\n",
      "\u001b[32m2023-12-03 14:04:07.467\u001b[0m | \u001b[34m\u001b[1mDEBUG   \u001b[0m | \u001b[36mgithub_helper\u001b[0m:\u001b[36mGetRepoList\u001b[0m:\u001b[36m112\u001b[0m - \u001b[34m\u001b[1mwrite cache PaddlePaddle: Perf\u001b[0m\n",
      "\u001b[32m2023-12-03 14:04:07.467\u001b[0m | \u001b[34m\u001b[1mDEBUG   \u001b[0m | \u001b[36mgithub_helper\u001b[0m:\u001b[36mGetRepoList\u001b[0m:\u001b[36m112\u001b[0m - \u001b[34m\u001b[1mwrite cache PaddlePaddle: PASSL\u001b[0m\n",
      "\u001b[32m2023-12-03 14:04:07.468\u001b[0m | \u001b[34m\u001b[1mDEBUG   \u001b[0m | \u001b[36mgithub_helper\u001b[0m:\u001b[36mGetRepoList\u001b[0m:\u001b[36m112\u001b[0m - \u001b[34m\u001b[1mwrite cache PaddlePaddle: PaddleNLP\u001b[0m\n",
      "\u001b[32m2023-12-03 14:04:07.468\u001b[0m | \u001b[34m\u001b[1mDEBUG   \u001b[0m | \u001b[36mgithub_helper\u001b[0m:\u001b[36mGetRepoList\u001b[0m:\u001b[36m112\u001b[0m - \u001b[34m\u001b[1mwrite cache PaddlePaddle: PaddleSleeve\u001b[0m\n",
      "\u001b[32m2023-12-03 14:04:07.469\u001b[0m | \u001b[34m\u001b[1mDEBUG   \u001b[0m | \u001b[36mgithub_helper\u001b[0m:\u001b[36mGetRepoList\u001b[0m:\u001b[36m112\u001b[0m - \u001b[34m\u001b[1mwrite cache PaddlePaddle: PaddleTest\u001b[0m\n",
      "\u001b[32m2023-12-03 14:04:07.469\u001b[0m | \u001b[34m\u001b[1mDEBUG   \u001b[0m | \u001b[36mgithub_helper\u001b[0m:\u001b[36mGetRepoList\u001b[0m:\u001b[36m112\u001b[0m - \u001b[34m\u001b[1mwrite cache PaddlePaddle: PaddleSpatial\u001b[0m\n",
      "\u001b[32m2023-12-03 14:04:07.470\u001b[0m | \u001b[34m\u001b[1mDEBUG   \u001b[0m | \u001b[36mgithub_helper\u001b[0m:\u001b[36mGetRepoList\u001b[0m:\u001b[36m112\u001b[0m - \u001b[34m\u001b[1mwrite cache PaddlePaddle: RocketQA\u001b[0m\n",
      "\u001b[32m2023-12-03 14:04:07.470\u001b[0m | \u001b[34m\u001b[1mDEBUG   \u001b[0m | \u001b[36mgithub_helper\u001b[0m:\u001b[36mGetRepoList\u001b[0m:\u001b[36m112\u001b[0m - \u001b[34m\u001b[1mwrite cache PaddlePaddle: VIMER\u001b[0m\n",
      "\u001b[32m2023-12-03 14:04:07.471\u001b[0m | \u001b[34m\u001b[1mDEBUG   \u001b[0m | \u001b[36mgithub_helper\u001b[0m:\u001b[36mGetRepoList\u001b[0m:\u001b[36m112\u001b[0m - \u001b[34m\u001b[1mwrite cache PaddlePaddle: PaddleScience\u001b[0m\n",
      "\u001b[32m2023-12-03 14:04:07.471\u001b[0m | \u001b[34m\u001b[1mDEBUG   \u001b[0m | \u001b[36mgithub_helper\u001b[0m:\u001b[36mGetRepoList\u001b[0m:\u001b[36m112\u001b[0m - \u001b[34m\u001b[1mwrite cache PaddlePaddle: PaddleDTX\u001b[0m\n",
      "\u001b[32m2023-12-03 14:04:07.472\u001b[0m | \u001b[34m\u001b[1mDEBUG   \u001b[0m | \u001b[36mgithub_helper\u001b[0m:\u001b[36mGetRepoList\u001b[0m:\u001b[36m112\u001b[0m - \u001b[34m\u001b[1mwrite cache PaddlePaddle: PaddleFlow\u001b[0m\n",
      "\u001b[32m2023-12-03 14:04:07.472\u001b[0m | \u001b[34m\u001b[1mDEBUG   \u001b[0m | \u001b[36mgithub_helper\u001b[0m:\u001b[36mGetRepoList\u001b[0m:\u001b[36m112\u001b[0m - \u001b[34m\u001b[1mwrite cache PaddlePaddle: TrustAI\u001b[0m\n",
      "\u001b[32m2023-12-03 14:04:07.473\u001b[0m | \u001b[34m\u001b[1mDEBUG   \u001b[0m | \u001b[36mgithub_helper\u001b[0m:\u001b[36mGetRepoList\u001b[0m:\u001b[36m112\u001b[0m - \u001b[34m\u001b[1mwrite cache PaddlePaddle: PaddleCustomDevice\u001b[0m\n",
      "\u001b[32m2023-12-03 14:04:07.473\u001b[0m | \u001b[34m\u001b[1mDEBUG   \u001b[0m | \u001b[36mgithub_helper\u001b[0m:\u001b[36mGetRepoList\u001b[0m:\u001b[36m112\u001b[0m - \u001b[34m\u001b[1mwrite cache PaddlePaddle: PaddleTransfer\u001b[0m\n",
      "\u001b[32m2023-12-03 14:04:07.473\u001b[0m | \u001b[34m\u001b[1mDEBUG   \u001b[0m | \u001b[36mgithub_helper\u001b[0m:\u001b[36mGetRepoList\u001b[0m:\u001b[36m112\u001b[0m - \u001b[34m\u001b[1mwrite cache PaddlePaddle: PaddleTS\u001b[0m\n",
      "\u001b[32m2023-12-03 14:04:07.474\u001b[0m | \u001b[34m\u001b[1mDEBUG   \u001b[0m | \u001b[36mgithub_helper\u001b[0m:\u001b[36mGetRepoList\u001b[0m:\u001b[36m112\u001b[0m - \u001b[34m\u001b[1mwrite cache PaddlePaddle: FastDeploy\u001b[0m\n",
      "\u001b[32m2023-12-03 14:04:07.474\u001b[0m | \u001b[34m\u001b[1mDEBUG   \u001b[0m | \u001b[36mgithub_helper\u001b[0m:\u001b[36mGetRepoList\u001b[0m:\u001b[36m112\u001b[0m - \u001b[34m\u001b[1mwrite cache PaddlePaddle: PaddleYOLO\u001b[0m\n",
      "\u001b[32m2023-12-03 14:04:07.474\u001b[0m | \u001b[34m\u001b[1mDEBUG   \u001b[0m | \u001b[36mgithub_helper\u001b[0m:\u001b[36mGetRepoList\u001b[0m:\u001b[36m112\u001b[0m - \u001b[34m\u001b[1mwrite cache PaddlePaddle: Paddle3D\u001b[0m\n",
      "\u001b[32m2023-12-03 14:04:07.475\u001b[0m | \u001b[34m\u001b[1mDEBUG   \u001b[0m | \u001b[36mgithub_helper\u001b[0m:\u001b[36mGetRepoList\u001b[0m:\u001b[36m112\u001b[0m - \u001b[34m\u001b[1mwrite cache PaddlePaddle: PaddleRS\u001b[0m\n",
      "\u001b[32m2023-12-03 14:04:07.475\u001b[0m | \u001b[34m\u001b[1mDEBUG   \u001b[0m | \u001b[36mgithub_helper\u001b[0m:\u001b[36mGetRepoList\u001b[0m:\u001b[36m112\u001b[0m - \u001b[34m\u001b[1mwrite cache PaddlePaddle: PaddleSports\u001b[0m\n",
      "\u001b[32m2023-12-03 14:04:07.476\u001b[0m | \u001b[34m\u001b[1mDEBUG   \u001b[0m | \u001b[36mgithub_helper\u001b[0m:\u001b[36mGetRepoList\u001b[0m:\u001b[36m112\u001b[0m - \u001b[34m\u001b[1mwrite cache PaddlePaddle: FlyCV\u001b[0m\n",
      "\u001b[32m2023-12-03 14:04:07.476\u001b[0m | \u001b[34m\u001b[1mDEBUG   \u001b[0m | \u001b[36mgithub_helper\u001b[0m:\u001b[36mGetRepoList\u001b[0m:\u001b[36m112\u001b[0m - \u001b[34m\u001b[1mwrite cache PaddlePaddle: PaddleDepth\u001b[0m\n",
      "\u001b[32m2023-12-03 14:04:07.477\u001b[0m | \u001b[34m\u001b[1mDEBUG   \u001b[0m | \u001b[36mgithub_helper\u001b[0m:\u001b[36mGetRepoList\u001b[0m:\u001b[36m112\u001b[0m - \u001b[34m\u001b[1mwrite cache PaddlePaddle: EasyData\u001b[0m\n",
      "\u001b[32m2023-12-03 14:04:07.477\u001b[0m | \u001b[34m\u001b[1mDEBUG   \u001b[0m | \u001b[36mgithub_helper\u001b[0m:\u001b[36mGetRepoList\u001b[0m:\u001b[36m112\u001b[0m - \u001b[34m\u001b[1mwrite cache PaddlePaddle: warp-transducer\u001b[0m\n",
      "\u001b[32m2023-12-03 14:04:07.478\u001b[0m | \u001b[34m\u001b[1mDEBUG   \u001b[0m | \u001b[36mgithub_helper\u001b[0m:\u001b[36mGetRepoList\u001b[0m:\u001b[36m112\u001b[0m - \u001b[34m\u001b[1mwrite cache PaddlePaddle: PaDiff\u001b[0m\n",
      "\u001b[32m2023-12-03 14:04:07.478\u001b[0m | \u001b[34m\u001b[1mDEBUG   \u001b[0m | \u001b[36mgithub_helper\u001b[0m:\u001b[36mGetRepoList\u001b[0m:\u001b[36m112\u001b[0m - \u001b[34m\u001b[1mwrite cache PaddlePaddle: flash-attention\u001b[0m\n",
      "\u001b[32m2023-12-03 14:04:07.479\u001b[0m | \u001b[34m\u001b[1mDEBUG   \u001b[0m | \u001b[36mgithub_helper\u001b[0m:\u001b[36mGetRepoList\u001b[0m:\u001b[36m112\u001b[0m - \u001b[34m\u001b[1mwrite cache PaddlePaddle: PaConvert\u001b[0m\n",
      "\u001b[32m2023-12-03 14:04:07.479\u001b[0m | \u001b[34m\u001b[1mDEBUG   \u001b[0m | \u001b[36mgithub_helper\u001b[0m:\u001b[36mGetRepoList\u001b[0m:\u001b[36m112\u001b[0m - \u001b[34m\u001b[1mwrite cache PaddlePaddle: PaddleSOT\u001b[0m\n",
      "\u001b[32m2023-12-03 14:04:07.480\u001b[0m | \u001b[34m\u001b[1mDEBUG   \u001b[0m | \u001b[36mgithub_helper\u001b[0m:\u001b[36mGetRepoList\u001b[0m:\u001b[36m112\u001b[0m - \u001b[34m\u001b[1mwrite cache PaddlePaddle: PaddleMIX\u001b[0m\n",
      "\u001b[32m2023-12-03 14:04:07.480\u001b[0m | \u001b[34m\u001b[1mDEBUG   \u001b[0m | \u001b[36mgithub_helper\u001b[0m:\u001b[36mGetRepoList\u001b[0m:\u001b[36m112\u001b[0m - \u001b[34m\u001b[1mwrite cache PaddlePaddle: ERNIE-Bot-SDK\u001b[0m\n",
      "\u001b[32m2023-12-03 14:04:07.481\u001b[0m | \u001b[1mINFO    \u001b[0m | \u001b[36mgithub_helper\u001b[0m:\u001b[36mGetRepoList\u001b[0m:\u001b[36m115\u001b[0m - \u001b[1mend get org repos: PaddlePaddle\u001b[0m\n"
     ]
    },
    {
     "data": {
      "text/plain": [
       "['Paddle',\n",
       " 'VisionTools',\n",
       " 'book',\n",
       " 'talks',\n",
       " 'models',\n",
       " 'PaddleCloud',\n",
       " 'mirrors-yapf',\n",
       " 'recordio',\n",
       " 'Mobile',\n",
       " 'XWorld',\n",
       " 'PaddlePaddle.org',\n",
       " 'Paddle-Lite',\n",
       " 'CLA',\n",
       " 'PaddleSpeech',\n",
       " 'VisualDL',\n",
       " 'continuous_evaluation',\n",
       " 'Paddle2ONNX',\n",
       " 'paddle-ce-latest-kpis',\n",
       " 'PARL',\n",
       " 'Anakin',\n",
       " 'docs',\n",
       " 'tape',\n",
       " 'PaddleFleetX',\n",
       " 'PaddleHub',\n",
       " 'X2Paddle',\n",
       " 'AutoDL',\n",
       " 'benchmark',\n",
       " 'ERNIE',\n",
       " 'Serving',\n",
       " 'any',\n",
       " 'PGL',\n",
       " 'MetaGym',\n",
       " 'Paddle-Lite-Demo',\n",
       " 'epep',\n",
       " 'examples',\n",
       " 'PaddleSeg',\n",
       " 'PALM',\n",
       " 'PaddleFL',\n",
       " 'PaddleDetection',\n",
       " 'PaddleCraft',\n",
       " 'ElasticCTR',\n",
       " 'awesome-DeepLearning',\n",
       " 'PLSC',\n",
       " 'PaddleSlim',\n",
       " 'hapi',\n",
       " 'CINN',\n",
       " 'Research',\n",
       " 'Contrib',\n",
       " 'Parakeet',\n",
       " 'continuous_integration',\n",
       " 'PaddleX',\n",
       " 'Paddle.js',\n",
       " 'PaddleClas',\n",
       " 'Paddle-bot',\n",
       " 'PaddleRec',\n",
       " 'Paddle-Inference-Demo',\n",
       " 'PaddleOCR',\n",
       " 'Quantum',\n",
       " 'PaddleGAN',\n",
       " 'InterpretDL',\n",
       " 'Knover',\n",
       " 'paddle_upgrade_tool',\n",
       " 'community',\n",
       " 'LiteKit',\n",
       " 'PaddleVideo',\n",
       " 'PaddleHelix',\n",
       " 'PaddleRobotics',\n",
       " 'Perf',\n",
       " 'PASSL',\n",
       " 'PaddleNLP',\n",
       " 'PaddleSleeve',\n",
       " 'PaddleTest',\n",
       " 'PaddleSpatial',\n",
       " 'RocketQA',\n",
       " 'VIMER',\n",
       " 'PaddleScience',\n",
       " 'PaddleDTX',\n",
       " 'PaddleFlow',\n",
       " 'TrustAI',\n",
       " 'PaddleCustomDevice',\n",
       " 'PaddleTransfer',\n",
       " 'PaddleTS',\n",
       " 'FastDeploy',\n",
       " 'PaddleYOLO',\n",
       " 'Paddle3D',\n",
       " 'PaddleRS',\n",
       " 'PaddleSports',\n",
       " 'FlyCV',\n",
       " 'PaddleDepth',\n",
       " 'EasyData',\n",
       " 'warp-transducer',\n",
       " 'PaDiff',\n",
       " 'flash-attention',\n",
       " 'PaConvert',\n",
       " 'PaddleSOT',\n",
       " 'PaddleMIX',\n",
       " 'ERNIE-Bot-SDK']"
      ]
     },
     "execution_count": 2,
     "metadata": {},
     "output_type": "execute_result"
    }
   ],
   "source": [
    "def log_init():\n",
    "    # TODO(gouzil): 改个前缀\n",
    "    logger.add(\n",
    "        \"./logs/PaddleDailyNews.log\",\n",
    "        rotation=\"10MB\",\n",
    "        encoding=\"utf-8\",\n",
    "        enqueue=True,\n",
    "        retention=\"10d\",\n",
    "        level=\"DEBUG\",\n",
    "    )\n",
    "\n",
    "\n",
    "log_init()\n",
    "g_helper = GithubHelper(GITHUB_TOKEN)\n",
    "print(g_helper.get_user_name())\n",
    "g_helper.GetRepoList() # 获取仓库列表"
   ]
  },
  {
   "cell_type": "code",
   "execution_count": null,
   "id": "e7795c4d-a0a6-45c8-8609-6fa2d2cb1aff",
   "metadata": {},
   "outputs": [],
   "source": [
    "g_helper.RefreshData([CacheMode.PR, CacheMode.ISSUES], datetime(2023, 11, 18), [\"paddle\"])"
   ]
  },
  {
   "cell_type": "code",
   "execution_count": 4,
   "id": "07e76ed8-ce9b-4eed-9526-b7f9f6aa9265",
   "metadata": {},
   "outputs": [],
   "source": [
    "cache = g_helper.get_ccashe()"
   ]
  },
  {
   "cell_type": "code",
   "execution_count": 5,
   "id": "d8da90d6-d1b4-432f-b0a5-46db439f50b2",
   "metadata": {},
   "outputs": [],
   "source": [
    "issue_list = cache['paddle'][0].get_data()"
   ]
  },
  {
   "cell_type": "code",
   "execution_count": 6,
   "id": "3f9ad132-fcf8-43bc-b17b-1d62c57ed498",
   "metadata": {},
   "outputs": [],
   "source": [
    "issue = issue_list[0]"
   ]
  },
  {
   "cell_type": "code",
   "execution_count": 18,
   "id": "1ceea8c0-4780-4726-abd3-b8676e7d1afc",
   "metadata": {},
   "outputs": [
    {
     "name": "stdout",
     "output_type": "stream",
     "text": [
      "<!-- Demo: https://github.com/PaddlePaddle/Paddle/pull/24810 -->\n",
      "### PR types\n",
      "<!-- One of [ New features | Bug fixes | Function optimization | Performance optimization | Breaking changes | Others ] -->\n",
      "\n",
      "Others\n",
      "\n",
      "### PR changes\n",
      "<!-- One of [ OPs | APIs | Docs | Others ] -->\n",
      "\n",
      "Others\n",
      "\n",
      "### Description\n",
      "<!-- Describe what you’ve done -->\n",
      "\n",
      "Pcard-67164\n",
      "Add GPU test and precision test for if_op_test\n"
     ]
    }
   ],
   "source": [
    "print(issue.body)"
   ]
  },
  {
   "cell_type": "code",
   "execution_count": 35,
   "id": "02a3ccfc-a785-4e0d-a005-b682f20c4ff7",
   "metadata": {},
   "outputs": [
    {
     "name": "stdout",
     "output_type": "stream",
     "text": [
      "<bound method Issue._useAttributes of Issue(title=\"[PIR] Add GPU test and precision test for if_op_test\", number=59564)>\n"
     ]
    }
   ],
   "source": [
    "print(issue._useAttributes)"
   ]
  },
  {
   "cell_type": "code",
   "execution_count": 8,
   "id": "5b75d3a9-6cd4-4524-a998-a9bfc8f80b3c",
   "metadata": {},
   "outputs": [],
   "source": [
    "from statistic_helper import StatisticHelper\n",
    "s_helper = StatisticHelper()"
   ]
  },
  {
   "cell_type": "code",
   "execution_count": 23,
   "id": "b2cae8ce-8e10-4d8e-b0a4-bdc29b0a7007",
   "metadata": {},
   "outputs": [
    {
     "data": {
      "text/plain": [
       "435"
      ]
     },
     "execution_count": 23,
     "metadata": {},
     "output_type": "execute_result"
    }
   ],
   "source": [
    "s_helper.get_total_pr_number(cache)"
   ]
  },
  {
   "cell_type": "code",
   "execution_count": 21,
   "id": "9630a950-9b46-47f6-ab3d-b5d18e452007",
   "metadata": {},
   "outputs": [
    {
     "ename": "TypeError",
     "evalue": "dict.keys() takes no arguments (1 given)",
     "output_type": "error",
     "traceback": [
      "\u001b[1;31m---------------------------------------------------------------------------\u001b[0m",
      "\u001b[1;31mTypeError\u001b[0m                                 Traceback (most recent call last)",
      "Cell \u001b[1;32mIn[21], line 1\u001b[0m\n\u001b[1;32m----> 1\u001b[0m \u001b[43mcache\u001b[49m\u001b[38;5;241;43m.\u001b[39;49m\u001b[43mkeys\u001b[49m\u001b[43m(\u001b[49m\u001b[38;5;241;43m1\u001b[39;49m\u001b[43m)\u001b[49m\n",
      "\u001b[1;31mTypeError\u001b[0m: dict.keys() takes no arguments (1 given)"
     ]
    }
   ],
   "source": [
    "cache.keys()"
   ]
  },
  {
   "cell_type": "code",
   "execution_count": 21,
   "id": "78156165-f7a7-4bab-9046-22238f695ffe",
   "metadata": {},
   "outputs": [],
   "source": [
    "import json\n"
   ]
  },
  {
   "cell_type": "code",
   "execution_count": 22,
   "id": "35c1fc56-3093-4858-a749-e81afa4c69e1",
   "metadata": {},
   "outputs": [
    {
     "ename": "TypeError",
     "evalue": "Object of type PullRequest is not JSON serializable",
     "output_type": "error",
     "traceback": [
      "\u001b[1;31m---------------------------------------------------------------------------\u001b[0m",
      "\u001b[1;31mTypeError\u001b[0m                                 Traceback (most recent call last)",
      "Cell \u001b[1;32mIn[22], line 2\u001b[0m\n\u001b[0;32m      1\u001b[0m \u001b[38;5;28;01mwith\u001b[39;00m \u001b[38;5;28mopen\u001b[39m(\u001b[38;5;124m'\u001b[39m\u001b[38;5;124mcache.json\u001b[39m\u001b[38;5;124m'\u001b[39m,\u001b[38;5;124m'\u001b[39m\u001b[38;5;124mw\u001b[39m\u001b[38;5;124m'\u001b[39m) \u001b[38;5;28;01mas\u001b[39;00m f:\n\u001b[1;32m----> 2\u001b[0m     \u001b[43mjson\u001b[49m\u001b[38;5;241;43m.\u001b[39;49m\u001b[43mdump\u001b[49m\u001b[43m(\u001b[49m\u001b[43mcache\u001b[49m\u001b[43m,\u001b[49m\u001b[43m \u001b[49m\u001b[43mf\u001b[49m\u001b[43m)\u001b[49m\n",
      "File \u001b[1;32m~\\AppData\\Local\\Programs\\Python\\Python311\\Lib\\json\\__init__.py:179\u001b[0m, in \u001b[0;36mdump\u001b[1;34m(obj, fp, skipkeys, ensure_ascii, check_circular, allow_nan, cls, indent, separators, default, sort_keys, **kw)\u001b[0m\n\u001b[0;32m    173\u001b[0m     iterable \u001b[38;5;241m=\u001b[39m \u001b[38;5;28mcls\u001b[39m(skipkeys\u001b[38;5;241m=\u001b[39mskipkeys, ensure_ascii\u001b[38;5;241m=\u001b[39mensure_ascii,\n\u001b[0;32m    174\u001b[0m         check_circular\u001b[38;5;241m=\u001b[39mcheck_circular, allow_nan\u001b[38;5;241m=\u001b[39mallow_nan, indent\u001b[38;5;241m=\u001b[39mindent,\n\u001b[0;32m    175\u001b[0m         separators\u001b[38;5;241m=\u001b[39mseparators,\n\u001b[0;32m    176\u001b[0m         default\u001b[38;5;241m=\u001b[39mdefault, sort_keys\u001b[38;5;241m=\u001b[39msort_keys, \u001b[38;5;241m*\u001b[39m\u001b[38;5;241m*\u001b[39mkw)\u001b[38;5;241m.\u001b[39miterencode(obj)\n\u001b[0;32m    177\u001b[0m \u001b[38;5;66;03m# could accelerate with writelines in some versions of Python, at\u001b[39;00m\n\u001b[0;32m    178\u001b[0m \u001b[38;5;66;03m# a debuggability cost\u001b[39;00m\n\u001b[1;32m--> 179\u001b[0m \u001b[43m\u001b[49m\u001b[38;5;28;43;01mfor\u001b[39;49;00m\u001b[43m \u001b[49m\u001b[43mchunk\u001b[49m\u001b[43m \u001b[49m\u001b[38;5;129;43;01min\u001b[39;49;00m\u001b[43m \u001b[49m\u001b[43miterable\u001b[49m\u001b[43m:\u001b[49m\n\u001b[0;32m    180\u001b[0m \u001b[43m    \u001b[49m\u001b[43mfp\u001b[49m\u001b[38;5;241;43m.\u001b[39;49m\u001b[43mwrite\u001b[49m\u001b[43m(\u001b[49m\u001b[43mchunk\u001b[49m\u001b[43m)\u001b[49m\n",
      "File \u001b[1;32m~\\AppData\\Local\\Programs\\Python\\Python311\\Lib\\json\\encoder.py:432\u001b[0m, in \u001b[0;36m_make_iterencode.<locals>._iterencode\u001b[1;34m(o, _current_indent_level)\u001b[0m\n\u001b[0;32m    430\u001b[0m     \u001b[38;5;28;01myield from\u001b[39;00m _iterencode_list(o, _current_indent_level)\n\u001b[0;32m    431\u001b[0m \u001b[38;5;28;01melif\u001b[39;00m \u001b[38;5;28misinstance\u001b[39m(o, \u001b[38;5;28mdict\u001b[39m):\n\u001b[1;32m--> 432\u001b[0m     \u001b[38;5;28;01myield from\u001b[39;00m _iterencode_dict(o, _current_indent_level)\n\u001b[0;32m    433\u001b[0m \u001b[38;5;28;01melse\u001b[39;00m:\n\u001b[0;32m    434\u001b[0m     \u001b[38;5;28;01mif\u001b[39;00m markers \u001b[38;5;129;01mis\u001b[39;00m \u001b[38;5;129;01mnot\u001b[39;00m \u001b[38;5;28;01mNone\u001b[39;00m:\n",
      "File \u001b[1;32m~\\AppData\\Local\\Programs\\Python\\Python311\\Lib\\json\\encoder.py:406\u001b[0m, in \u001b[0;36m_make_iterencode.<locals>._iterencode_dict\u001b[1;34m(dct, _current_indent_level)\u001b[0m\n\u001b[0;32m    404\u001b[0m         \u001b[38;5;28;01melse\u001b[39;00m:\n\u001b[0;32m    405\u001b[0m             chunks \u001b[38;5;241m=\u001b[39m _iterencode(value, _current_indent_level)\n\u001b[1;32m--> 406\u001b[0m         \u001b[38;5;28;01myield from\u001b[39;00m chunks\n\u001b[0;32m    407\u001b[0m \u001b[38;5;28;01mif\u001b[39;00m newline_indent \u001b[38;5;129;01mis\u001b[39;00m \u001b[38;5;129;01mnot\u001b[39;00m \u001b[38;5;28;01mNone\u001b[39;00m:\n\u001b[0;32m    408\u001b[0m     _current_indent_level \u001b[38;5;241m-\u001b[39m\u001b[38;5;241m=\u001b[39m \u001b[38;5;241m1\u001b[39m\n",
      "File \u001b[1;32m~\\AppData\\Local\\Programs\\Python\\Python311\\Lib\\json\\encoder.py:326\u001b[0m, in \u001b[0;36m_make_iterencode.<locals>._iterencode_list\u001b[1;34m(lst, _current_indent_level)\u001b[0m\n\u001b[0;32m    324\u001b[0m         \u001b[38;5;28;01melse\u001b[39;00m:\n\u001b[0;32m    325\u001b[0m             chunks \u001b[38;5;241m=\u001b[39m _iterencode(value, _current_indent_level)\n\u001b[1;32m--> 326\u001b[0m         \u001b[38;5;28;01myield from\u001b[39;00m chunks\n\u001b[0;32m    327\u001b[0m \u001b[38;5;28;01mif\u001b[39;00m newline_indent \u001b[38;5;129;01mis\u001b[39;00m \u001b[38;5;129;01mnot\u001b[39;00m \u001b[38;5;28;01mNone\u001b[39;00m:\n\u001b[0;32m    328\u001b[0m     _current_indent_level \u001b[38;5;241m-\u001b[39m\u001b[38;5;241m=\u001b[39m \u001b[38;5;241m1\u001b[39m\n",
      "File \u001b[1;32m~\\AppData\\Local\\Programs\\Python\\Python311\\Lib\\json\\encoder.py:439\u001b[0m, in \u001b[0;36m_make_iterencode.<locals>._iterencode\u001b[1;34m(o, _current_indent_level)\u001b[0m\n\u001b[0;32m    437\u001b[0m         \u001b[38;5;28;01mraise\u001b[39;00m \u001b[38;5;167;01mValueError\u001b[39;00m(\u001b[38;5;124m\"\u001b[39m\u001b[38;5;124mCircular reference detected\u001b[39m\u001b[38;5;124m\"\u001b[39m)\n\u001b[0;32m    438\u001b[0m     markers[markerid] \u001b[38;5;241m=\u001b[39m o\n\u001b[1;32m--> 439\u001b[0m o \u001b[38;5;241m=\u001b[39m \u001b[43m_default\u001b[49m\u001b[43m(\u001b[49m\u001b[43mo\u001b[49m\u001b[43m)\u001b[49m\n\u001b[0;32m    440\u001b[0m \u001b[38;5;28;01myield from\u001b[39;00m _iterencode(o, _current_indent_level)\n\u001b[0;32m    441\u001b[0m \u001b[38;5;28;01mif\u001b[39;00m markers \u001b[38;5;129;01mis\u001b[39;00m \u001b[38;5;129;01mnot\u001b[39;00m \u001b[38;5;28;01mNone\u001b[39;00m:\n",
      "File \u001b[1;32m~\\AppData\\Local\\Programs\\Python\\Python311\\Lib\\json\\encoder.py:180\u001b[0m, in \u001b[0;36mJSONEncoder.default\u001b[1;34m(self, o)\u001b[0m\n\u001b[0;32m    161\u001b[0m \u001b[38;5;28;01mdef\u001b[39;00m \u001b[38;5;21mdefault\u001b[39m(\u001b[38;5;28mself\u001b[39m, o):\n\u001b[0;32m    162\u001b[0m \u001b[38;5;250m    \u001b[39m\u001b[38;5;124;03m\"\"\"Implement this method in a subclass such that it returns\u001b[39;00m\n\u001b[0;32m    163\u001b[0m \u001b[38;5;124;03m    a serializable object for ``o``, or calls the base implementation\u001b[39;00m\n\u001b[0;32m    164\u001b[0m \u001b[38;5;124;03m    (to raise a ``TypeError``).\u001b[39;00m\n\u001b[1;32m   (...)\u001b[0m\n\u001b[0;32m    178\u001b[0m \n\u001b[0;32m    179\u001b[0m \u001b[38;5;124;03m    \"\"\"\u001b[39;00m\n\u001b[1;32m--> 180\u001b[0m     \u001b[38;5;28;01mraise\u001b[39;00m \u001b[38;5;167;01mTypeError\u001b[39;00m(\u001b[38;5;124mf\u001b[39m\u001b[38;5;124m'\u001b[39m\u001b[38;5;124mObject of type \u001b[39m\u001b[38;5;132;01m{\u001b[39;00mo\u001b[38;5;241m.\u001b[39m\u001b[38;5;18m__class__\u001b[39m\u001b[38;5;241m.\u001b[39m\u001b[38;5;18m__name__\u001b[39m\u001b[38;5;132;01m}\u001b[39;00m\u001b[38;5;124m \u001b[39m\u001b[38;5;124m'\u001b[39m\n\u001b[0;32m    181\u001b[0m                     \u001b[38;5;124mf\u001b[39m\u001b[38;5;124m'\u001b[39m\u001b[38;5;124mis not JSON serializable\u001b[39m\u001b[38;5;124m'\u001b[39m)\n",
      "\u001b[1;31mTypeError\u001b[0m: Object of type PullRequest is not JSON serializable"
     ]
    }
   ],
   "source": [
    "with open('cache.json','w') as f:\n",
    "    json.dump(cache, f)"
   ]
  },
  {
   "cell_type": "markdown",
   "id": "bf95af67-9b1b-45d1-a9bf-fee851ba4ab7",
   "metadata": {},
   "source": [
    "# 仅测试样式"
   ]
  },
  {
   "cell_type": "code",
   "execution_count": 1,
   "id": "416479b2-e995-4a90-b5a0-c0e7ec3e5769",
   "metadata": {},
   "outputs": [],
   "source": [
    "from statistic_helper import StatisticHelper\n",
    "from layout_helper import LayoutHelper"
   ]
  },
  {
   "cell_type": "code",
   "execution_count": 2,
   "id": "363f8220-3690-47cd-9065-bbb4833d371e",
   "metadata": {},
   "outputs": [],
   "source": [
    "s_helper = StatisticHelper()"
   ]
  },
  {
   "cell_type": "code",
   "execution_count": 3,
   "id": "ef12d862-e72b-45d1-b3ba-78007fad71a3",
   "metadata": {},
   "outputs": [],
   "source": [
    "l_helper = LayoutHelper()\n",
    "l_helper.generate_layout(s_helper)\n",
    "l_helper.Export2MarkdownFile()"
   ]
  },
  {
   "cell_type": "code",
   "execution_count": null,
   "id": "21f6b164-ad62-484f-8495-d9cfc32fc30f",
   "metadata": {},
   "outputs": [],
   "source": []
  }
 ],
 "metadata": {
  "kernelspec": {
   "display_name": "Python 3 (ipykernel)",
   "language": "python",
   "name": "python3"
  },
  "language_info": {
   "codemirror_mode": {
    "name": "ipython",
    "version": 3
   },
   "file_extension": ".py",
   "mimetype": "text/x-python",
   "name": "python",
   "nbconvert_exporter": "python",
   "pygments_lexer": "ipython3",
   "version": "3.11.6"
  }
 },
 "nbformat": 4,
 "nbformat_minor": 5
}
