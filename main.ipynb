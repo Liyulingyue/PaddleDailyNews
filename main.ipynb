{
 "cells": [
  {
   "cell_type": "code",
   "execution_count": 9,
   "id": "fde4af33-5559-4e84-8ec1-769019ac82ad",
   "metadata": {},
   "outputs": [],
   "source": [
    "from datetime import datetime, timedelta\n",
    "from configure import *\n",
    "from loguru import logger\n",
    "\n",
    "from github_helper import CacheMode, GithubHelper\n",
    "from statistic_helper import StatisticHelper\n",
    "from layout_helper import LayoutHelper"
   ]
  },
  {
   "cell_type": "code",
   "execution_count": 2,
   "id": "370fe04e-5972-41a0-9de1-4a828837185b",
   "metadata": {},
   "outputs": [
    {
     "name": "stderr",
     "output_type": "stream",
     "text": [
      "\u001b[32m2023-12-03 21:30:42.481\u001b[0m | \u001b[1mINFO    \u001b[0m | \u001b[36mgithub_helper\u001b[0m:\u001b[36mGetRepoList\u001b[0m:\u001b[36m103\u001b[0m - \u001b[1mstart get org repos: PaddlePaddle\u001b[0m\n"
     ]
    },
    {
     "name": "stdout",
     "output_type": "stream",
     "text": [
      "Yilingyelu\n"
     ]
    },
    {
     "name": "stderr",
     "output_type": "stream",
     "text": [
      "\u001b[32m2023-12-03 21:30:45.512\u001b[0m | \u001b[34m\u001b[1mDEBUG   \u001b[0m | \u001b[36mgithub_helper\u001b[0m:\u001b[36mGetRepoList\u001b[0m:\u001b[36m111\u001b[0m - \u001b[34m\u001b[1mwrite cache PaddlePaddle: paddle\u001b[0m\n",
      "\u001b[32m2023-12-03 21:30:45.513\u001b[0m | \u001b[34m\u001b[1mDEBUG   \u001b[0m | \u001b[36mgithub_helper\u001b[0m:\u001b[36mGetRepoList\u001b[0m:\u001b[36m111\u001b[0m - \u001b[34m\u001b[1mwrite cache PaddlePaddle: visiontools\u001b[0m\n",
      "\u001b[32m2023-12-03 21:30:45.514\u001b[0m | \u001b[34m\u001b[1mDEBUG   \u001b[0m | \u001b[36mgithub_helper\u001b[0m:\u001b[36mGetRepoList\u001b[0m:\u001b[36m111\u001b[0m - \u001b[34m\u001b[1mwrite cache PaddlePaddle: book\u001b[0m\n",
      "\u001b[32m2023-12-03 21:30:45.515\u001b[0m | \u001b[34m\u001b[1mDEBUG   \u001b[0m | \u001b[36mgithub_helper\u001b[0m:\u001b[36mGetRepoList\u001b[0m:\u001b[36m111\u001b[0m - \u001b[34m\u001b[1mwrite cache PaddlePaddle: talks\u001b[0m\n",
      "\u001b[32m2023-12-03 21:30:45.515\u001b[0m | \u001b[34m\u001b[1mDEBUG   \u001b[0m | \u001b[36mgithub_helper\u001b[0m:\u001b[36mGetRepoList\u001b[0m:\u001b[36m111\u001b[0m - \u001b[34m\u001b[1mwrite cache PaddlePaddle: models\u001b[0m\n",
      "\u001b[32m2023-12-03 21:30:45.516\u001b[0m | \u001b[34m\u001b[1mDEBUG   \u001b[0m | \u001b[36mgithub_helper\u001b[0m:\u001b[36mGetRepoList\u001b[0m:\u001b[36m111\u001b[0m - \u001b[34m\u001b[1mwrite cache PaddlePaddle: paddlecloud\u001b[0m\n",
      "\u001b[32m2023-12-03 21:30:45.516\u001b[0m | \u001b[34m\u001b[1mDEBUG   \u001b[0m | \u001b[36mgithub_helper\u001b[0m:\u001b[36mGetRepoList\u001b[0m:\u001b[36m111\u001b[0m - \u001b[34m\u001b[1mwrite cache PaddlePaddle: mirrors-yapf\u001b[0m\n",
      "\u001b[32m2023-12-03 21:30:45.518\u001b[0m | \u001b[34m\u001b[1mDEBUG   \u001b[0m | \u001b[36mgithub_helper\u001b[0m:\u001b[36mGetRepoList\u001b[0m:\u001b[36m111\u001b[0m - \u001b[34m\u001b[1mwrite cache PaddlePaddle: recordio\u001b[0m\n",
      "\u001b[32m2023-12-03 21:30:45.518\u001b[0m | \u001b[34m\u001b[1mDEBUG   \u001b[0m | \u001b[36mgithub_helper\u001b[0m:\u001b[36mGetRepoList\u001b[0m:\u001b[36m111\u001b[0m - \u001b[34m\u001b[1mwrite cache PaddlePaddle: mobile\u001b[0m\n",
      "\u001b[32m2023-12-03 21:30:45.519\u001b[0m | \u001b[34m\u001b[1mDEBUG   \u001b[0m | \u001b[36mgithub_helper\u001b[0m:\u001b[36mGetRepoList\u001b[0m:\u001b[36m111\u001b[0m - \u001b[34m\u001b[1mwrite cache PaddlePaddle: xworld\u001b[0m\n",
      "\u001b[32m2023-12-03 21:30:45.519\u001b[0m | \u001b[34m\u001b[1mDEBUG   \u001b[0m | \u001b[36mgithub_helper\u001b[0m:\u001b[36mGetRepoList\u001b[0m:\u001b[36m111\u001b[0m - \u001b[34m\u001b[1mwrite cache PaddlePaddle: paddlepaddle.org\u001b[0m\n",
      "\u001b[32m2023-12-03 21:30:45.520\u001b[0m | \u001b[34m\u001b[1mDEBUG   \u001b[0m | \u001b[36mgithub_helper\u001b[0m:\u001b[36mGetRepoList\u001b[0m:\u001b[36m111\u001b[0m - \u001b[34m\u001b[1mwrite cache PaddlePaddle: paddle-lite\u001b[0m\n",
      "\u001b[32m2023-12-03 21:30:45.521\u001b[0m | \u001b[34m\u001b[1mDEBUG   \u001b[0m | \u001b[36mgithub_helper\u001b[0m:\u001b[36mGetRepoList\u001b[0m:\u001b[36m111\u001b[0m - \u001b[34m\u001b[1mwrite cache PaddlePaddle: cla\u001b[0m\n",
      "\u001b[32m2023-12-03 21:30:45.521\u001b[0m | \u001b[34m\u001b[1mDEBUG   \u001b[0m | \u001b[36mgithub_helper\u001b[0m:\u001b[36mGetRepoList\u001b[0m:\u001b[36m111\u001b[0m - \u001b[34m\u001b[1mwrite cache PaddlePaddle: paddlespeech\u001b[0m\n",
      "\u001b[32m2023-12-03 21:30:45.522\u001b[0m | \u001b[34m\u001b[1mDEBUG   \u001b[0m | \u001b[36mgithub_helper\u001b[0m:\u001b[36mGetRepoList\u001b[0m:\u001b[36m111\u001b[0m - \u001b[34m\u001b[1mwrite cache PaddlePaddle: visualdl\u001b[0m\n",
      "\u001b[32m2023-12-03 21:30:45.523\u001b[0m | \u001b[34m\u001b[1mDEBUG   \u001b[0m | \u001b[36mgithub_helper\u001b[0m:\u001b[36mGetRepoList\u001b[0m:\u001b[36m111\u001b[0m - \u001b[34m\u001b[1mwrite cache PaddlePaddle: continuous_evaluation\u001b[0m\n",
      "\u001b[32m2023-12-03 21:30:45.524\u001b[0m | \u001b[34m\u001b[1mDEBUG   \u001b[0m | \u001b[36mgithub_helper\u001b[0m:\u001b[36mGetRepoList\u001b[0m:\u001b[36m111\u001b[0m - \u001b[34m\u001b[1mwrite cache PaddlePaddle: paddle2onnx\u001b[0m\n",
      "\u001b[32m2023-12-03 21:30:45.524\u001b[0m | \u001b[34m\u001b[1mDEBUG   \u001b[0m | \u001b[36mgithub_helper\u001b[0m:\u001b[36mGetRepoList\u001b[0m:\u001b[36m111\u001b[0m - \u001b[34m\u001b[1mwrite cache PaddlePaddle: paddle-ce-latest-kpis\u001b[0m\n",
      "\u001b[32m2023-12-03 21:30:45.530\u001b[0m | \u001b[34m\u001b[1mDEBUG   \u001b[0m | \u001b[36mgithub_helper\u001b[0m:\u001b[36mGetRepoList\u001b[0m:\u001b[36m111\u001b[0m - \u001b[34m\u001b[1mwrite cache PaddlePaddle: parl\u001b[0m\n",
      "\u001b[32m2023-12-03 21:30:45.531\u001b[0m | \u001b[34m\u001b[1mDEBUG   \u001b[0m | \u001b[36mgithub_helper\u001b[0m:\u001b[36mGetRepoList\u001b[0m:\u001b[36m111\u001b[0m - \u001b[34m\u001b[1mwrite cache PaddlePaddle: anakin\u001b[0m\n",
      "\u001b[32m2023-12-03 21:30:45.532\u001b[0m | \u001b[34m\u001b[1mDEBUG   \u001b[0m | \u001b[36mgithub_helper\u001b[0m:\u001b[36mGetRepoList\u001b[0m:\u001b[36m111\u001b[0m - \u001b[34m\u001b[1mwrite cache PaddlePaddle: docs\u001b[0m\n",
      "\u001b[32m2023-12-03 21:30:45.532\u001b[0m | \u001b[34m\u001b[1mDEBUG   \u001b[0m | \u001b[36mgithub_helper\u001b[0m:\u001b[36mGetRepoList\u001b[0m:\u001b[36m111\u001b[0m - \u001b[34m\u001b[1mwrite cache PaddlePaddle: tape\u001b[0m\n",
      "\u001b[32m2023-12-03 21:30:45.533\u001b[0m | \u001b[34m\u001b[1mDEBUG   \u001b[0m | \u001b[36mgithub_helper\u001b[0m:\u001b[36mGetRepoList\u001b[0m:\u001b[36m111\u001b[0m - \u001b[34m\u001b[1mwrite cache PaddlePaddle: paddlefleetx\u001b[0m\n",
      "\u001b[32m2023-12-03 21:30:45.533\u001b[0m | \u001b[34m\u001b[1mDEBUG   \u001b[0m | \u001b[36mgithub_helper\u001b[0m:\u001b[36mGetRepoList\u001b[0m:\u001b[36m111\u001b[0m - \u001b[34m\u001b[1mwrite cache PaddlePaddle: paddlehub\u001b[0m\n",
      "\u001b[32m2023-12-03 21:30:45.534\u001b[0m | \u001b[34m\u001b[1mDEBUG   \u001b[0m | \u001b[36mgithub_helper\u001b[0m:\u001b[36mGetRepoList\u001b[0m:\u001b[36m111\u001b[0m - \u001b[34m\u001b[1mwrite cache PaddlePaddle: x2paddle\u001b[0m\n",
      "\u001b[32m2023-12-03 21:30:45.534\u001b[0m | \u001b[34m\u001b[1mDEBUG   \u001b[0m | \u001b[36mgithub_helper\u001b[0m:\u001b[36mGetRepoList\u001b[0m:\u001b[36m111\u001b[0m - \u001b[34m\u001b[1mwrite cache PaddlePaddle: autodl\u001b[0m\n",
      "\u001b[32m2023-12-03 21:30:45.535\u001b[0m | \u001b[34m\u001b[1mDEBUG   \u001b[0m | \u001b[36mgithub_helper\u001b[0m:\u001b[36mGetRepoList\u001b[0m:\u001b[36m111\u001b[0m - \u001b[34m\u001b[1mwrite cache PaddlePaddle: benchmark\u001b[0m\n",
      "\u001b[32m2023-12-03 21:30:45.536\u001b[0m | \u001b[34m\u001b[1mDEBUG   \u001b[0m | \u001b[36mgithub_helper\u001b[0m:\u001b[36mGetRepoList\u001b[0m:\u001b[36m111\u001b[0m - \u001b[34m\u001b[1mwrite cache PaddlePaddle: ernie\u001b[0m\n",
      "\u001b[32m2023-12-03 21:30:45.536\u001b[0m | \u001b[34m\u001b[1mDEBUG   \u001b[0m | \u001b[36mgithub_helper\u001b[0m:\u001b[36mGetRepoList\u001b[0m:\u001b[36m111\u001b[0m - \u001b[34m\u001b[1mwrite cache PaddlePaddle: serving\u001b[0m\n",
      "\u001b[32m2023-12-03 21:30:45.536\u001b[0m | \u001b[34m\u001b[1mDEBUG   \u001b[0m | \u001b[36mgithub_helper\u001b[0m:\u001b[36mGetRepoList\u001b[0m:\u001b[36m111\u001b[0m - \u001b[34m\u001b[1mwrite cache PaddlePaddle: any\u001b[0m\n",
      "\u001b[32m2023-12-03 21:30:45.537\u001b[0m | \u001b[34m\u001b[1mDEBUG   \u001b[0m | \u001b[36mgithub_helper\u001b[0m:\u001b[36mGetRepoList\u001b[0m:\u001b[36m111\u001b[0m - \u001b[34m\u001b[1mwrite cache PaddlePaddle: pgl\u001b[0m\n",
      "\u001b[32m2023-12-03 21:30:45.538\u001b[0m | \u001b[34m\u001b[1mDEBUG   \u001b[0m | \u001b[36mgithub_helper\u001b[0m:\u001b[36mGetRepoList\u001b[0m:\u001b[36m111\u001b[0m - \u001b[34m\u001b[1mwrite cache PaddlePaddle: metagym\u001b[0m\n",
      "\u001b[32m2023-12-03 21:30:45.538\u001b[0m | \u001b[34m\u001b[1mDEBUG   \u001b[0m | \u001b[36mgithub_helper\u001b[0m:\u001b[36mGetRepoList\u001b[0m:\u001b[36m111\u001b[0m - \u001b[34m\u001b[1mwrite cache PaddlePaddle: paddle-lite-demo\u001b[0m\n",
      "\u001b[32m2023-12-03 21:30:45.539\u001b[0m | \u001b[34m\u001b[1mDEBUG   \u001b[0m | \u001b[36mgithub_helper\u001b[0m:\u001b[36mGetRepoList\u001b[0m:\u001b[36m111\u001b[0m - \u001b[34m\u001b[1mwrite cache PaddlePaddle: epep\u001b[0m\n",
      "\u001b[32m2023-12-03 21:30:45.539\u001b[0m | \u001b[34m\u001b[1mDEBUG   \u001b[0m | \u001b[36mgithub_helper\u001b[0m:\u001b[36mGetRepoList\u001b[0m:\u001b[36m111\u001b[0m - \u001b[34m\u001b[1mwrite cache PaddlePaddle: examples\u001b[0m\n",
      "\u001b[32m2023-12-03 21:30:45.540\u001b[0m | \u001b[34m\u001b[1mDEBUG   \u001b[0m | \u001b[36mgithub_helper\u001b[0m:\u001b[36mGetRepoList\u001b[0m:\u001b[36m111\u001b[0m - \u001b[34m\u001b[1mwrite cache PaddlePaddle: paddleseg\u001b[0m\n",
      "\u001b[32m2023-12-03 21:30:45.540\u001b[0m | \u001b[34m\u001b[1mDEBUG   \u001b[0m | \u001b[36mgithub_helper\u001b[0m:\u001b[36mGetRepoList\u001b[0m:\u001b[36m111\u001b[0m - \u001b[34m\u001b[1mwrite cache PaddlePaddle: palm\u001b[0m\n",
      "\u001b[32m2023-12-03 21:30:45.541\u001b[0m | \u001b[34m\u001b[1mDEBUG   \u001b[0m | \u001b[36mgithub_helper\u001b[0m:\u001b[36mGetRepoList\u001b[0m:\u001b[36m111\u001b[0m - \u001b[34m\u001b[1mwrite cache PaddlePaddle: paddlefl\u001b[0m\n",
      "\u001b[32m2023-12-03 21:30:45.541\u001b[0m | \u001b[34m\u001b[1mDEBUG   \u001b[0m | \u001b[36mgithub_helper\u001b[0m:\u001b[36mGetRepoList\u001b[0m:\u001b[36m111\u001b[0m - \u001b[34m\u001b[1mwrite cache PaddlePaddle: paddledetection\u001b[0m\n",
      "\u001b[32m2023-12-03 21:30:45.542\u001b[0m | \u001b[34m\u001b[1mDEBUG   \u001b[0m | \u001b[36mgithub_helper\u001b[0m:\u001b[36mGetRepoList\u001b[0m:\u001b[36m111\u001b[0m - \u001b[34m\u001b[1mwrite cache PaddlePaddle: paddlecraft\u001b[0m\n",
      "\u001b[32m2023-12-03 21:30:45.542\u001b[0m | \u001b[34m\u001b[1mDEBUG   \u001b[0m | \u001b[36mgithub_helper\u001b[0m:\u001b[36mGetRepoList\u001b[0m:\u001b[36m111\u001b[0m - \u001b[34m\u001b[1mwrite cache PaddlePaddle: elasticctr\u001b[0m\n",
      "\u001b[32m2023-12-03 21:30:45.543\u001b[0m | \u001b[34m\u001b[1mDEBUG   \u001b[0m | \u001b[36mgithub_helper\u001b[0m:\u001b[36mGetRepoList\u001b[0m:\u001b[36m111\u001b[0m - \u001b[34m\u001b[1mwrite cache PaddlePaddle: awesome-deeplearning\u001b[0m\n",
      "\u001b[32m2023-12-03 21:30:45.543\u001b[0m | \u001b[34m\u001b[1mDEBUG   \u001b[0m | \u001b[36mgithub_helper\u001b[0m:\u001b[36mGetRepoList\u001b[0m:\u001b[36m111\u001b[0m - \u001b[34m\u001b[1mwrite cache PaddlePaddle: plsc\u001b[0m\n",
      "\u001b[32m2023-12-03 21:30:45.544\u001b[0m | \u001b[34m\u001b[1mDEBUG   \u001b[0m | \u001b[36mgithub_helper\u001b[0m:\u001b[36mGetRepoList\u001b[0m:\u001b[36m111\u001b[0m - \u001b[34m\u001b[1mwrite cache PaddlePaddle: paddleslim\u001b[0m\n",
      "\u001b[32m2023-12-03 21:30:45.544\u001b[0m | \u001b[34m\u001b[1mDEBUG   \u001b[0m | \u001b[36mgithub_helper\u001b[0m:\u001b[36mGetRepoList\u001b[0m:\u001b[36m111\u001b[0m - \u001b[34m\u001b[1mwrite cache PaddlePaddle: hapi\u001b[0m\n",
      "\u001b[32m2023-12-03 21:30:45.545\u001b[0m | \u001b[34m\u001b[1mDEBUG   \u001b[0m | \u001b[36mgithub_helper\u001b[0m:\u001b[36mGetRepoList\u001b[0m:\u001b[36m111\u001b[0m - \u001b[34m\u001b[1mwrite cache PaddlePaddle: cinn\u001b[0m\n",
      "\u001b[32m2023-12-03 21:30:45.545\u001b[0m | \u001b[34m\u001b[1mDEBUG   \u001b[0m | \u001b[36mgithub_helper\u001b[0m:\u001b[36mGetRepoList\u001b[0m:\u001b[36m111\u001b[0m - \u001b[34m\u001b[1mwrite cache PaddlePaddle: research\u001b[0m\n",
      "\u001b[32m2023-12-03 21:30:45.546\u001b[0m | \u001b[34m\u001b[1mDEBUG   \u001b[0m | \u001b[36mgithub_helper\u001b[0m:\u001b[36mGetRepoList\u001b[0m:\u001b[36m111\u001b[0m - \u001b[34m\u001b[1mwrite cache PaddlePaddle: contrib\u001b[0m\n",
      "\u001b[32m2023-12-03 21:30:45.546\u001b[0m | \u001b[34m\u001b[1mDEBUG   \u001b[0m | \u001b[36mgithub_helper\u001b[0m:\u001b[36mGetRepoList\u001b[0m:\u001b[36m111\u001b[0m - \u001b[34m\u001b[1mwrite cache PaddlePaddle: parakeet\u001b[0m\n",
      "\u001b[32m2023-12-03 21:30:45.547\u001b[0m | \u001b[34m\u001b[1mDEBUG   \u001b[0m | \u001b[36mgithub_helper\u001b[0m:\u001b[36mGetRepoList\u001b[0m:\u001b[36m111\u001b[0m - \u001b[34m\u001b[1mwrite cache PaddlePaddle: continuous_integration\u001b[0m\n",
      "\u001b[32m2023-12-03 21:30:45.547\u001b[0m | \u001b[34m\u001b[1mDEBUG   \u001b[0m | \u001b[36mgithub_helper\u001b[0m:\u001b[36mGetRepoList\u001b[0m:\u001b[36m111\u001b[0m - \u001b[34m\u001b[1mwrite cache PaddlePaddle: paddlex\u001b[0m\n",
      "\u001b[32m2023-12-03 21:30:45.548\u001b[0m | \u001b[34m\u001b[1mDEBUG   \u001b[0m | \u001b[36mgithub_helper\u001b[0m:\u001b[36mGetRepoList\u001b[0m:\u001b[36m111\u001b[0m - \u001b[34m\u001b[1mwrite cache PaddlePaddle: paddle.js\u001b[0m\n",
      "\u001b[32m2023-12-03 21:30:45.548\u001b[0m | \u001b[34m\u001b[1mDEBUG   \u001b[0m | \u001b[36mgithub_helper\u001b[0m:\u001b[36mGetRepoList\u001b[0m:\u001b[36m111\u001b[0m - \u001b[34m\u001b[1mwrite cache PaddlePaddle: paddleclas\u001b[0m\n",
      "\u001b[32m2023-12-03 21:30:45.548\u001b[0m | \u001b[34m\u001b[1mDEBUG   \u001b[0m | \u001b[36mgithub_helper\u001b[0m:\u001b[36mGetRepoList\u001b[0m:\u001b[36m111\u001b[0m - \u001b[34m\u001b[1mwrite cache PaddlePaddle: paddle-bot\u001b[0m\n",
      "\u001b[32m2023-12-03 21:30:45.548\u001b[0m | \u001b[34m\u001b[1mDEBUG   \u001b[0m | \u001b[36mgithub_helper\u001b[0m:\u001b[36mGetRepoList\u001b[0m:\u001b[36m111\u001b[0m - \u001b[34m\u001b[1mwrite cache PaddlePaddle: paddlerec\u001b[0m\n",
      "\u001b[32m2023-12-03 21:30:45.550\u001b[0m | \u001b[34m\u001b[1mDEBUG   \u001b[0m | \u001b[36mgithub_helper\u001b[0m:\u001b[36mGetRepoList\u001b[0m:\u001b[36m111\u001b[0m - \u001b[34m\u001b[1mwrite cache PaddlePaddle: paddle-inference-demo\u001b[0m\n",
      "\u001b[32m2023-12-03 21:30:45.550\u001b[0m | \u001b[34m\u001b[1mDEBUG   \u001b[0m | \u001b[36mgithub_helper\u001b[0m:\u001b[36mGetRepoList\u001b[0m:\u001b[36m111\u001b[0m - \u001b[34m\u001b[1mwrite cache PaddlePaddle: paddleocr\u001b[0m\n",
      "\u001b[32m2023-12-03 21:30:45.551\u001b[0m | \u001b[34m\u001b[1mDEBUG   \u001b[0m | \u001b[36mgithub_helper\u001b[0m:\u001b[36mGetRepoList\u001b[0m:\u001b[36m111\u001b[0m - \u001b[34m\u001b[1mwrite cache PaddlePaddle: quantum\u001b[0m\n",
      "\u001b[32m2023-12-03 21:30:45.552\u001b[0m | \u001b[34m\u001b[1mDEBUG   \u001b[0m | \u001b[36mgithub_helper\u001b[0m:\u001b[36mGetRepoList\u001b[0m:\u001b[36m111\u001b[0m - \u001b[34m\u001b[1mwrite cache PaddlePaddle: paddlegan\u001b[0m\n",
      "\u001b[32m2023-12-03 21:30:45.552\u001b[0m | \u001b[34m\u001b[1mDEBUG   \u001b[0m | \u001b[36mgithub_helper\u001b[0m:\u001b[36mGetRepoList\u001b[0m:\u001b[36m111\u001b[0m - \u001b[34m\u001b[1mwrite cache PaddlePaddle: interpretdl\u001b[0m\n",
      "\u001b[32m2023-12-03 21:30:45.552\u001b[0m | \u001b[34m\u001b[1mDEBUG   \u001b[0m | \u001b[36mgithub_helper\u001b[0m:\u001b[36mGetRepoList\u001b[0m:\u001b[36m111\u001b[0m - \u001b[34m\u001b[1mwrite cache PaddlePaddle: knover\u001b[0m\n",
      "\u001b[32m2023-12-03 21:30:45.553\u001b[0m | \u001b[34m\u001b[1mDEBUG   \u001b[0m | \u001b[36mgithub_helper\u001b[0m:\u001b[36mGetRepoList\u001b[0m:\u001b[36m111\u001b[0m - \u001b[34m\u001b[1mwrite cache PaddlePaddle: paddle_upgrade_tool\u001b[0m\n",
      "\u001b[32m2023-12-03 21:30:45.553\u001b[0m | \u001b[34m\u001b[1mDEBUG   \u001b[0m | \u001b[36mgithub_helper\u001b[0m:\u001b[36mGetRepoList\u001b[0m:\u001b[36m111\u001b[0m - \u001b[34m\u001b[1mwrite cache PaddlePaddle: community\u001b[0m\n",
      "\u001b[32m2023-12-03 21:30:45.554\u001b[0m | \u001b[34m\u001b[1mDEBUG   \u001b[0m | \u001b[36mgithub_helper\u001b[0m:\u001b[36mGetRepoList\u001b[0m:\u001b[36m111\u001b[0m - \u001b[34m\u001b[1mwrite cache PaddlePaddle: litekit\u001b[0m\n",
      "\u001b[32m2023-12-03 21:30:45.554\u001b[0m | \u001b[34m\u001b[1mDEBUG   \u001b[0m | \u001b[36mgithub_helper\u001b[0m:\u001b[36mGetRepoList\u001b[0m:\u001b[36m111\u001b[0m - \u001b[34m\u001b[1mwrite cache PaddlePaddle: paddlevideo\u001b[0m\n",
      "\u001b[32m2023-12-03 21:30:45.555\u001b[0m | \u001b[34m\u001b[1mDEBUG   \u001b[0m | \u001b[36mgithub_helper\u001b[0m:\u001b[36mGetRepoList\u001b[0m:\u001b[36m111\u001b[0m - \u001b[34m\u001b[1mwrite cache PaddlePaddle: paddlehelix\u001b[0m\n",
      "\u001b[32m2023-12-03 21:30:45.555\u001b[0m | \u001b[34m\u001b[1mDEBUG   \u001b[0m | \u001b[36mgithub_helper\u001b[0m:\u001b[36mGetRepoList\u001b[0m:\u001b[36m111\u001b[0m - \u001b[34m\u001b[1mwrite cache PaddlePaddle: paddlerobotics\u001b[0m\n",
      "\u001b[32m2023-12-03 21:30:45.556\u001b[0m | \u001b[34m\u001b[1mDEBUG   \u001b[0m | \u001b[36mgithub_helper\u001b[0m:\u001b[36mGetRepoList\u001b[0m:\u001b[36m111\u001b[0m - \u001b[34m\u001b[1mwrite cache PaddlePaddle: perf\u001b[0m\n",
      "\u001b[32m2023-12-03 21:30:45.557\u001b[0m | \u001b[34m\u001b[1mDEBUG   \u001b[0m | \u001b[36mgithub_helper\u001b[0m:\u001b[36mGetRepoList\u001b[0m:\u001b[36m111\u001b[0m - \u001b[34m\u001b[1mwrite cache PaddlePaddle: passl\u001b[0m\n",
      "\u001b[32m2023-12-03 21:30:45.557\u001b[0m | \u001b[34m\u001b[1mDEBUG   \u001b[0m | \u001b[36mgithub_helper\u001b[0m:\u001b[36mGetRepoList\u001b[0m:\u001b[36m111\u001b[0m - \u001b[34m\u001b[1mwrite cache PaddlePaddle: paddlenlp\u001b[0m\n",
      "\u001b[32m2023-12-03 21:30:45.557\u001b[0m | \u001b[34m\u001b[1mDEBUG   \u001b[0m | \u001b[36mgithub_helper\u001b[0m:\u001b[36mGetRepoList\u001b[0m:\u001b[36m111\u001b[0m - \u001b[34m\u001b[1mwrite cache PaddlePaddle: paddlesleeve\u001b[0m\n",
      "\u001b[32m2023-12-03 21:30:45.558\u001b[0m | \u001b[34m\u001b[1mDEBUG   \u001b[0m | \u001b[36mgithub_helper\u001b[0m:\u001b[36mGetRepoList\u001b[0m:\u001b[36m111\u001b[0m - \u001b[34m\u001b[1mwrite cache PaddlePaddle: paddletest\u001b[0m\n",
      "\u001b[32m2023-12-03 21:30:45.558\u001b[0m | \u001b[34m\u001b[1mDEBUG   \u001b[0m | \u001b[36mgithub_helper\u001b[0m:\u001b[36mGetRepoList\u001b[0m:\u001b[36m111\u001b[0m - \u001b[34m\u001b[1mwrite cache PaddlePaddle: paddlespatial\u001b[0m\n",
      "\u001b[32m2023-12-03 21:30:45.559\u001b[0m | \u001b[34m\u001b[1mDEBUG   \u001b[0m | \u001b[36mgithub_helper\u001b[0m:\u001b[36mGetRepoList\u001b[0m:\u001b[36m111\u001b[0m - \u001b[34m\u001b[1mwrite cache PaddlePaddle: rocketqa\u001b[0m\n",
      "\u001b[32m2023-12-03 21:30:45.559\u001b[0m | \u001b[34m\u001b[1mDEBUG   \u001b[0m | \u001b[36mgithub_helper\u001b[0m:\u001b[36mGetRepoList\u001b[0m:\u001b[36m111\u001b[0m - \u001b[34m\u001b[1mwrite cache PaddlePaddle: vimer\u001b[0m\n",
      "\u001b[32m2023-12-03 21:30:45.560\u001b[0m | \u001b[34m\u001b[1mDEBUG   \u001b[0m | \u001b[36mgithub_helper\u001b[0m:\u001b[36mGetRepoList\u001b[0m:\u001b[36m111\u001b[0m - \u001b[34m\u001b[1mwrite cache PaddlePaddle: paddlescience\u001b[0m\n",
      "\u001b[32m2023-12-03 21:30:45.560\u001b[0m | \u001b[34m\u001b[1mDEBUG   \u001b[0m | \u001b[36mgithub_helper\u001b[0m:\u001b[36mGetRepoList\u001b[0m:\u001b[36m111\u001b[0m - \u001b[34m\u001b[1mwrite cache PaddlePaddle: paddledtx\u001b[0m\n",
      "\u001b[32m2023-12-03 21:30:45.561\u001b[0m | \u001b[34m\u001b[1mDEBUG   \u001b[0m | \u001b[36mgithub_helper\u001b[0m:\u001b[36mGetRepoList\u001b[0m:\u001b[36m111\u001b[0m - \u001b[34m\u001b[1mwrite cache PaddlePaddle: paddleflow\u001b[0m\n",
      "\u001b[32m2023-12-03 21:30:45.561\u001b[0m | \u001b[34m\u001b[1mDEBUG   \u001b[0m | \u001b[36mgithub_helper\u001b[0m:\u001b[36mGetRepoList\u001b[0m:\u001b[36m111\u001b[0m - \u001b[34m\u001b[1mwrite cache PaddlePaddle: trustai\u001b[0m\n",
      "\u001b[32m2023-12-03 21:30:45.562\u001b[0m | \u001b[34m\u001b[1mDEBUG   \u001b[0m | \u001b[36mgithub_helper\u001b[0m:\u001b[36mGetRepoList\u001b[0m:\u001b[36m111\u001b[0m - \u001b[34m\u001b[1mwrite cache PaddlePaddle: paddlecustomdevice\u001b[0m\n",
      "\u001b[32m2023-12-03 21:30:45.562\u001b[0m | \u001b[34m\u001b[1mDEBUG   \u001b[0m | \u001b[36mgithub_helper\u001b[0m:\u001b[36mGetRepoList\u001b[0m:\u001b[36m111\u001b[0m - \u001b[34m\u001b[1mwrite cache PaddlePaddle: paddletransfer\u001b[0m\n",
      "\u001b[32m2023-12-03 21:30:45.563\u001b[0m | \u001b[34m\u001b[1mDEBUG   \u001b[0m | \u001b[36mgithub_helper\u001b[0m:\u001b[36mGetRepoList\u001b[0m:\u001b[36m111\u001b[0m - \u001b[34m\u001b[1mwrite cache PaddlePaddle: paddlets\u001b[0m\n",
      "\u001b[32m2023-12-03 21:30:45.564\u001b[0m | \u001b[34m\u001b[1mDEBUG   \u001b[0m | \u001b[36mgithub_helper\u001b[0m:\u001b[36mGetRepoList\u001b[0m:\u001b[36m111\u001b[0m - \u001b[34m\u001b[1mwrite cache PaddlePaddle: fastdeploy\u001b[0m\n",
      "\u001b[32m2023-12-03 21:30:45.564\u001b[0m | \u001b[34m\u001b[1mDEBUG   \u001b[0m | \u001b[36mgithub_helper\u001b[0m:\u001b[36mGetRepoList\u001b[0m:\u001b[36m111\u001b[0m - \u001b[34m\u001b[1mwrite cache PaddlePaddle: paddleyolo\u001b[0m\n",
      "\u001b[32m2023-12-03 21:30:45.565\u001b[0m | \u001b[34m\u001b[1mDEBUG   \u001b[0m | \u001b[36mgithub_helper\u001b[0m:\u001b[36mGetRepoList\u001b[0m:\u001b[36m111\u001b[0m - \u001b[34m\u001b[1mwrite cache PaddlePaddle: paddle3d\u001b[0m\n",
      "\u001b[32m2023-12-03 21:30:45.565\u001b[0m | \u001b[34m\u001b[1mDEBUG   \u001b[0m | \u001b[36mgithub_helper\u001b[0m:\u001b[36mGetRepoList\u001b[0m:\u001b[36m111\u001b[0m - \u001b[34m\u001b[1mwrite cache PaddlePaddle: paddlers\u001b[0m\n",
      "\u001b[32m2023-12-03 21:30:45.565\u001b[0m | \u001b[34m\u001b[1mDEBUG   \u001b[0m | \u001b[36mgithub_helper\u001b[0m:\u001b[36mGetRepoList\u001b[0m:\u001b[36m111\u001b[0m - \u001b[34m\u001b[1mwrite cache PaddlePaddle: paddlesports\u001b[0m\n",
      "\u001b[32m2023-12-03 21:30:45.566\u001b[0m | \u001b[34m\u001b[1mDEBUG   \u001b[0m | \u001b[36mgithub_helper\u001b[0m:\u001b[36mGetRepoList\u001b[0m:\u001b[36m111\u001b[0m - \u001b[34m\u001b[1mwrite cache PaddlePaddle: flycv\u001b[0m\n",
      "\u001b[32m2023-12-03 21:30:45.566\u001b[0m | \u001b[34m\u001b[1mDEBUG   \u001b[0m | \u001b[36mgithub_helper\u001b[0m:\u001b[36mGetRepoList\u001b[0m:\u001b[36m111\u001b[0m - \u001b[34m\u001b[1mwrite cache PaddlePaddle: paddledepth\u001b[0m\n",
      "\u001b[32m2023-12-03 21:30:45.567\u001b[0m | \u001b[34m\u001b[1mDEBUG   \u001b[0m | \u001b[36mgithub_helper\u001b[0m:\u001b[36mGetRepoList\u001b[0m:\u001b[36m111\u001b[0m - \u001b[34m\u001b[1mwrite cache PaddlePaddle: easydata\u001b[0m\n",
      "\u001b[32m2023-12-03 21:30:45.567\u001b[0m | \u001b[34m\u001b[1mDEBUG   \u001b[0m | \u001b[36mgithub_helper\u001b[0m:\u001b[36mGetRepoList\u001b[0m:\u001b[36m111\u001b[0m - \u001b[34m\u001b[1mwrite cache PaddlePaddle: warp-transducer\u001b[0m\n",
      "\u001b[32m2023-12-03 21:30:45.568\u001b[0m | \u001b[34m\u001b[1mDEBUG   \u001b[0m | \u001b[36mgithub_helper\u001b[0m:\u001b[36mGetRepoList\u001b[0m:\u001b[36m111\u001b[0m - \u001b[34m\u001b[1mwrite cache PaddlePaddle: padiff\u001b[0m\n",
      "\u001b[32m2023-12-03 21:30:45.568\u001b[0m | \u001b[34m\u001b[1mDEBUG   \u001b[0m | \u001b[36mgithub_helper\u001b[0m:\u001b[36mGetRepoList\u001b[0m:\u001b[36m111\u001b[0m - \u001b[34m\u001b[1mwrite cache PaddlePaddle: flash-attention\u001b[0m\n",
      "\u001b[32m2023-12-03 21:30:45.568\u001b[0m | \u001b[34m\u001b[1mDEBUG   \u001b[0m | \u001b[36mgithub_helper\u001b[0m:\u001b[36mGetRepoList\u001b[0m:\u001b[36m111\u001b[0m - \u001b[34m\u001b[1mwrite cache PaddlePaddle: paconvert\u001b[0m\n",
      "\u001b[32m2023-12-03 21:30:45.569\u001b[0m | \u001b[34m\u001b[1mDEBUG   \u001b[0m | \u001b[36mgithub_helper\u001b[0m:\u001b[36mGetRepoList\u001b[0m:\u001b[36m111\u001b[0m - \u001b[34m\u001b[1mwrite cache PaddlePaddle: paddlesot\u001b[0m\n",
      "\u001b[32m2023-12-03 21:30:45.569\u001b[0m | \u001b[34m\u001b[1mDEBUG   \u001b[0m | \u001b[36mgithub_helper\u001b[0m:\u001b[36mGetRepoList\u001b[0m:\u001b[36m111\u001b[0m - \u001b[34m\u001b[1mwrite cache PaddlePaddle: paddlemix\u001b[0m\n",
      "\u001b[32m2023-12-03 21:30:45.569\u001b[0m | \u001b[34m\u001b[1mDEBUG   \u001b[0m | \u001b[36mgithub_helper\u001b[0m:\u001b[36mGetRepoList\u001b[0m:\u001b[36m111\u001b[0m - \u001b[34m\u001b[1mwrite cache PaddlePaddle: ernie-bot-sdk\u001b[0m\n",
      "\u001b[32m2023-12-03 21:30:45.570\u001b[0m | \u001b[1mINFO    \u001b[0m | \u001b[36mgithub_helper\u001b[0m:\u001b[36mGetRepoList\u001b[0m:\u001b[36m115\u001b[0m - \u001b[1mend get org repos: PaddlePaddle\u001b[0m\n"
     ]
    },
    {
     "data": {
      "text/plain": [
       "['paddle',\n",
       " 'visiontools',\n",
       " 'book',\n",
       " 'talks',\n",
       " 'models',\n",
       " 'paddlecloud',\n",
       " 'mirrors-yapf',\n",
       " 'recordio',\n",
       " 'mobile',\n",
       " 'xworld',\n",
       " 'paddlepaddle.org',\n",
       " 'paddle-lite',\n",
       " 'cla',\n",
       " 'paddlespeech',\n",
       " 'visualdl',\n",
       " 'continuous_evaluation',\n",
       " 'paddle2onnx',\n",
       " 'paddle-ce-latest-kpis',\n",
       " 'parl',\n",
       " 'anakin',\n",
       " 'docs',\n",
       " 'tape',\n",
       " 'paddlefleetx',\n",
       " 'paddlehub',\n",
       " 'x2paddle',\n",
       " 'autodl',\n",
       " 'benchmark',\n",
       " 'ernie',\n",
       " 'serving',\n",
       " 'any',\n",
       " 'pgl',\n",
       " 'metagym',\n",
       " 'paddle-lite-demo',\n",
       " 'epep',\n",
       " 'examples',\n",
       " 'paddleseg',\n",
       " 'palm',\n",
       " 'paddlefl',\n",
       " 'paddledetection',\n",
       " 'paddlecraft',\n",
       " 'elasticctr',\n",
       " 'awesome-deeplearning',\n",
       " 'plsc',\n",
       " 'paddleslim',\n",
       " 'hapi',\n",
       " 'cinn',\n",
       " 'research',\n",
       " 'contrib',\n",
       " 'parakeet',\n",
       " 'continuous_integration',\n",
       " 'paddlex',\n",
       " 'paddle.js',\n",
       " 'paddleclas',\n",
       " 'paddle-bot',\n",
       " 'paddlerec',\n",
       " 'paddle-inference-demo',\n",
       " 'paddleocr',\n",
       " 'quantum',\n",
       " 'paddlegan',\n",
       " 'interpretdl',\n",
       " 'knover',\n",
       " 'paddle_upgrade_tool',\n",
       " 'community',\n",
       " 'litekit',\n",
       " 'paddlevideo',\n",
       " 'paddlehelix',\n",
       " 'paddlerobotics',\n",
       " 'perf',\n",
       " 'passl',\n",
       " 'paddlenlp',\n",
       " 'paddlesleeve',\n",
       " 'paddletest',\n",
       " 'paddlespatial',\n",
       " 'rocketqa',\n",
       " 'vimer',\n",
       " 'paddlescience',\n",
       " 'paddledtx',\n",
       " 'paddleflow',\n",
       " 'trustai',\n",
       " 'paddlecustomdevice',\n",
       " 'paddletransfer',\n",
       " 'paddlets',\n",
       " 'fastdeploy',\n",
       " 'paddleyolo',\n",
       " 'paddle3d',\n",
       " 'paddlers',\n",
       " 'paddlesports',\n",
       " 'flycv',\n",
       " 'paddledepth',\n",
       " 'easydata',\n",
       " 'warp-transducer',\n",
       " 'padiff',\n",
       " 'flash-attention',\n",
       " 'paconvert',\n",
       " 'paddlesot',\n",
       " 'paddlemix',\n",
       " 'ernie-bot-sdk']"
      ]
     },
     "execution_count": 2,
     "metadata": {},
     "output_type": "execute_result"
    }
   ],
   "source": [
    "def log_init():\n",
    "    # TODO(gouzil): 改个前缀\n",
    "    logger.add(\n",
    "        \"./logs/PaddleDailyNews.log\",\n",
    "        rotation=\"10MB\",\n",
    "        encoding=\"utf-8\",\n",
    "        enqueue=True,\n",
    "        retention=\"10d\",\n",
    "        level=\"DEBUG\",\n",
    "    )\n",
    "\n",
    "\n",
    "log_init()\n",
    "g_helper = GithubHelper(GITHUB_TOKEN)\n",
    "print(g_helper.get_user_name())\n",
    "g_helper.GetRepoList() # 获取仓库列表"
   ]
  },
  {
   "cell_type": "code",
   "execution_count": 12,
   "id": "e7795c4d-a0a6-45c8-8609-6fa2d2cb1aff",
   "metadata": {
    "scrolled": true
   },
   "outputs": [
    {
     "name": "stderr",
     "output_type": "stream",
     "text": [
      "\u001b[32m2023-12-03 21:39:09.354\u001b[0m | \u001b[1mINFO    \u001b[0m | \u001b[36mgithub_helper\u001b[0m:\u001b[36mRefreshPrData\u001b[0m:\u001b[36m207\u001b[0m - \u001b[1mrequast pr list: PaddlePaddle/paddle branch: develop start\u001b[0m\n",
      "\u001b[32m2023-12-03 21:39:09.355\u001b[0m | \u001b[1mINFO    \u001b[0m | \u001b[36mgithub_helper\u001b[0m:\u001b[36mRefreshPrData\u001b[0m:\u001b[36m211\u001b[0m - \u001b[1mrequest pr list start time: 2023-12-03 13:00:00+00:00, end time: 2023-12-03 21:30:41.268190+00:00\u001b[0m\n",
      "\u001b[32m2023-12-03 21:39:14.224\u001b[0m | \u001b[34m\u001b[1mDEBUG   \u001b[0m | \u001b[36mgithub_helper\u001b[0m:\u001b[36mRefreshPrData\u001b[0m:\u001b[36m217\u001b[0m - \u001b[34m\u001b[1mrequest pr number: 59639, pr create time: 2023-12-03 13:12:32+00:00, pr status: open\u001b[0m\n",
      "\u001b[32m2023-12-03 21:39:14.225\u001b[0m | \u001b[34m\u001b[1mDEBUG   \u001b[0m | \u001b[36mgithub_helper\u001b[0m:\u001b[36mRefreshPrData\u001b[0m:\u001b[36m217\u001b[0m - \u001b[34m\u001b[1mrequest pr number: 59638, pr create time: 2023-12-03 12:50:46+00:00, pr status: open\u001b[0m\n",
      "\u001b[32m2023-12-03 21:39:14.225\u001b[0m | \u001b[34m\u001b[1mDEBUG   \u001b[0m | \u001b[36mgithub_helper\u001b[0m:\u001b[36mRefreshPrData\u001b[0m:\u001b[36m219\u001b[0m - \u001b[34m\u001b[1mend request pr number: 59638\u001b[0m\n",
      "\u001b[32m2023-12-03 21:39:14.226\u001b[0m | \u001b[1mINFO    \u001b[0m | \u001b[36mgithub_helper\u001b[0m:\u001b[36mRefreshPrData\u001b[0m:\u001b[36m225\u001b[0m - \u001b[1mrequast pr list PaddlePaddle/paddle branch: develop end\u001b[0m\n",
      "\u001b[32m2023-12-03 21:39:14.227\u001b[0m | \u001b[34m\u001b[1mDEBUG   \u001b[0m | \u001b[36mgithub_helper\u001b[0m:\u001b[36mRefreshPrData\u001b[0m:\u001b[36m226\u001b[0m - \u001b[34m\u001b[1mrequast pr list len: 1\u001b[0m\n",
      "\u001b[32m2023-12-03 21:39:14.228\u001b[0m | \u001b[1mINFO    \u001b[0m | \u001b[36mgithub_helper\u001b[0m:\u001b[36mRefreshIssuesData\u001b[0m:\u001b[36m239\u001b[0m - \u001b[1mrequast issues list: PaddlePaddle/paddle start\u001b[0m\n",
      "\u001b[32m2023-12-03 21:39:14.229\u001b[0m | \u001b[1mINFO    \u001b[0m | \u001b[36mgithub_helper\u001b[0m:\u001b[36mRefreshIssuesData\u001b[0m:\u001b[36m243\u001b[0m - \u001b[1mrequest issues list start time: 2023-12-03 13:00:00+00:00, end time: 2023-12-03 21:30:41.268190+00:00\u001b[0m\n",
      "\u001b[32m2023-12-03 21:39:15.642\u001b[0m | \u001b[34m\u001b[1mDEBUG   \u001b[0m | \u001b[36mgithub_helper\u001b[0m:\u001b[36mRefreshIssuesData\u001b[0m:\u001b[36m249\u001b[0m - \u001b[34m\u001b[1mrequest issue number: 59639, create time: 2023-12-03 13:12:32+00:00, status: open\u001b[0m\n",
      "\u001b[32m2023-12-03 21:39:15.643\u001b[0m | \u001b[34m\u001b[1mDEBUG   \u001b[0m | \u001b[36mgithub_helper\u001b[0m:\u001b[36mRefreshIssuesData\u001b[0m:\u001b[36m249\u001b[0m - \u001b[34m\u001b[1mrequest issue number: 59638, create time: 2023-12-03 12:50:46+00:00, status: open\u001b[0m\n",
      "\u001b[32m2023-12-03 21:39:15.643\u001b[0m | \u001b[34m\u001b[1mDEBUG   \u001b[0m | \u001b[36mgithub_helper\u001b[0m:\u001b[36mRefreshIssuesData\u001b[0m:\u001b[36m251\u001b[0m - \u001b[34m\u001b[1mend request issue number: 59638\u001b[0m\n",
      "\u001b[32m2023-12-03 21:39:15.644\u001b[0m | \u001b[1mINFO    \u001b[0m | \u001b[36mgithub_helper\u001b[0m:\u001b[36mRefreshIssuesData\u001b[0m:\u001b[36m257\u001b[0m - \u001b[1mrequast issues list PaddlePaddle/paddle end\u001b[0m\n",
      "\u001b[32m2023-12-03 21:39:15.645\u001b[0m | \u001b[34m\u001b[1mDEBUG   \u001b[0m | \u001b[36mgithub_helper\u001b[0m:\u001b[36mRefreshIssuesData\u001b[0m:\u001b[36m258\u001b[0m - \u001b[34m\u001b[1mrequast issues list len: 1\u001b[0m\n"
     ]
    }
   ],
   "source": [
    "g_helper.RefreshData([CacheMode.PR, CacheMode.ISSUES],\n",
    "                     start_time=datetime(2023, 12, 3, 13),\n",
    "                     repo_names = [\"paddle\"])"
   ]
  },
  {
   "cell_type": "code",
   "execution_count": 11,
   "id": "a672682b-4bbe-4dac-bcbb-e03c90f4a62b",
   "metadata": {},
   "outputs": [],
   "source": [
    "g_helper.get_ccashe()\n",
    "cache_pr = g_helper.get_ccashe(\"paddle\")\n",
    "cache_issue = g_helper.get_ccashe(\"paddle\", CacheMode.ISSUES)"
   ]
  },
  {
   "cell_type": "code",
   "execution_count": 14,
   "id": "e2dc0108-566b-485b-90a7-186e66b64505",
   "metadata": {},
   "outputs": [
    {
     "data": {
      "text/plain": [
       "[PullRequest(title=\"[Semi-auto] Remove dist_attr in DistTensor\", number=59639)]"
      ]
     },
     "execution_count": 14,
     "metadata": {},
     "output_type": "execute_result"
    }
   ],
   "source": [
    "cache_pr"
   ]
  },
  {
   "cell_type": "code",
   "execution_count": 13,
   "id": "ad046f27-1b73-4584-aef5-d8de98c9ba9f",
   "metadata": {},
   "outputs": [
    {
     "data": {
      "text/plain": [
       "[Issue(title=\"[Semi-auto] Remove dist_attr in DistTensor\", number=59639)]"
      ]
     },
     "execution_count": 13,
     "metadata": {},
     "output_type": "execute_result"
    }
   ],
   "source": [
    "cache_issue"
   ]
  },
  {
   "cell_type": "code",
   "execution_count": 46,
   "id": "07e76ed8-ce9b-4eed-9526-b7f9f6aa9265",
   "metadata": {},
   "outputs": [],
   "source": [
    "pr = cache_pr[0]"
   ]
  },
  {
   "cell_type": "code",
   "execution_count": 66,
   "id": "6c2d0f54-216b-4cfe-af61-bd14db5c64c1",
   "metadata": {},
   "outputs": [
    {
     "name": "stdout",
     "output_type": "stream",
     "text": [
      "\n",
      "    title: 【PIR OpTest Fix No.8】 fix test_shuffle_batch_op\n",
      "    user state: [Label(name=\"contributor\")]\n",
      "    content: <!-- Demo: https://github.com/PaddlePaddle/Paddle/pull/24810 -->\n",
      "### PR types\n",
      "<!-- One of [ New features | Bug fixes | Function optimization | Performance optimization | Breaking changes | Others ] -->\n",
      "Others\n",
      "### PR changes\n",
      "<!-- One of [ OPs | APIs | Docs | Others ] -->\n",
      "Others\n",
      "### Description\n",
      "<!-- Describe what you’ve done -->\n",
      "PIR Op单测修复\n",
      "修复单测 `test_shuffle_batch_op`\n",
      "修复后打开`FLAGS_enable_pir_in_executor`单测是否通过：是\n",
      "    changed_files: 8\n",
      "    add_lines: 67\n",
      "    delete_lines: 0\n",
      "    diff_details: https://github.com/PaddlePaddle/Paddle/pull/59631.diff \n",
      "    \n",
      "    \n"
     ]
    }
   ],
   "source": [
    "print(\n",
    "    f\"\"\"\n",
    "    title: {pr.title}\n",
    "    id: {pr.number}\n",
    "    user: {pr.user}\n",
    "    user state: {pr.labels}\n",
    "    content: {pr.body}\n",
    "    changed_files: {pr.changed_files}\n",
    "    add_lines: {pr.additions}\n",
    "    delete_lines: {pr.deletions}\n",
    "    diff_details: {pr.diff_url} \n",
    "    merged: {pr.merged}\n",
    "    \"\"\")"
   ]
  },
  {
   "cell_type": "code",
   "execution_count": 73,
   "id": "1ceea8c0-4780-4726-abd3-b8676e7d1afc",
   "metadata": {},
   "outputs": [
    {
     "name": "stdout",
     "output_type": "stream",
     "text": [
      "<bound method PullRequest.get_comment of PullRequest(title=\"【PIR OpTest Fix No.8】 fix test_shuffle_batch_op\", number=59631)>\n"
     ]
    }
   ],
   "source": [
    "print(pr.get_comment)"
   ]
  },
  {
   "cell_type": "code",
   "execution_count": null,
   "id": "02a3ccfc-a785-4e0d-a005-b682f20c4ff7",
   "metadata": {
    "scrolled": true
   },
   "outputs": [],
   "source": [
    "import requests\n",
    "r = requests.get(pr.diff_url)\n",
    "for line in r.text.split(\"diff --git\"):\n",
    "    print(\"**********************************\")\n",
    "    print(line)"
   ]
  },
  {
   "cell_type": "code",
   "execution_count": 126,
   "id": "b2cae8ce-8e10-4d8e-b0a4-bdc29b0a7007",
   "metadata": {},
   "outputs": [
    {
     "data": {
      "text/plain": [
       "[\"diff--gita/paddle/fluid/pir/dialect/op_generator/ops_api_gen.pyb/paddle/fluid/pir/dialect/op_generator/ops_api_gen.py\\nindex6f0a552b529d..9f0cef3241b8100644\\n---a/paddle/fluid/pir/dialect/op_generator/ops_api_gen.py\\n+++b/paddle/fluid/pir/dialect/op_generator/ops_api_gen.py\\n@@-123,6+123,7@@\\n'seed',\\n'send_v2',\\n'shadow_feed',\\n+'shuffle_batch',\\n'sparse_momentum',\\n'uniform_random_batch_size_like',\\n]\\ndiff--gita/paddle/fluid/pir/dialect/operator/ir/ops.yamlb/paddle/fluid/pir/dialect/operator/ir/ops.yaml\\nindex460ca5ad373c..2d6fe9bf03eb100644\\n---a/paddle/fluid/pir/dialect/operator/ir/ops.yaml\\n+++b/paddle/fluid/pir/dialect/operator/ir/ops.yaml\\n@@-1123,6+1123,16@@\\nfunc:share_data\\nparam:[x]\\n\\n+-op:shuffle_batch\\n+args:(Tensorx,Tensorseed,intstartup_seed=0)\\n+output:Tensor(out),Tensor(shuffle_idx),Tensor(seed_out)\\n+infer_meta:\\n+func:ShuffleBatchInferMeta\\n+kernel:\\n+func:shuffle_batch\\n+data_type:x\\n+backward:shuffle_batch_grad\\n+\\n-op:slice\\nargs:(Tensorinput,int64_t[]axes,IntArraystarts,IntArrayends,int64_t[]infer_flags,int64_t[]decrease_axis)\\noutput:Tensor\\ndiff--gita/paddle/fluid/pir/dialect/operator/ir/ops_backward.yamlb/paddle/fluid/pir/dialect/operator/ir/ops_backward.yaml\\nindexbeba440b5b6d..e011efe752a6100644\\n---a/paddle/fluid/pir/dialect/operator/ir/ops_backward.yaml\\n+++b/paddle/fluid/pir/dialect/operator/ir/ops_backward.yaml\\n@@-895,6+895,16@@\\nfunc:fused_elemwise_add_activation_grad\\noptional:x,intermediate_out\\n\\n+-backward_op:shuffle_batch_grad\\n+forward:shuffle_batch(Tensorx,Tensorseed,intstar\",\n",
       " 'tup_seed=0)->Tensor(out),Tensor(shuffle_idx),Tensor(seed_out)\\n+args:(Tensorshuffle_idx,Tensorout_grad,intstartup_seed=0)\\n+output:Tensor(x_grad)\\n+infer_meta:\\n+func:ShuffleBatchGradInferMeta\\n+kernel:\\n+func:shuffle_batch_grad\\n+data_type:out_grad\\n+\\n-backward_op:unpool_grad\\nforward:unpool(Tensorx,Tensorindices,int[]ksize,int[]strides,int[]padding,IntArrayoutput_size,strdata_format)->Tensor(out)\\nargs:(Tensorx,Tensorindices,Tensorout,Tensorout_grad,int[]ksize,int[]strides,int[]padding,IntArrayoutput_size,strdata_format)\\ndiff--gita/paddle/phi/api/yaml/op_compat.yamlb/paddle/phi/api/yaml/op_compat.yaml\\nindex553df312fdec..b1ac12a417fe100755\\n---a/paddle/phi/api/yaml/op_compat.yaml\\n+++b/paddle/phi/api/yaml/op_compat.yaml\\n@@-2747,6+2747,13@@\\nout:Out\\nxout:XOut\\n\\n+-op:shuffle_batch\\n+backward:shuffle_batch_grad\\n+inputs:\\n+{x:X,seed:Seed}\\n+outputs:\\n+{out:Out,shuffle_idx:ShuffleIdx,seed_out:SeedOut}\\n+\\n-op:shuffle_channel\\nbackward:shuffle_channel_grad\\nextra:\\ndiff--gita/paddle/phi/infermeta/binary.ccb/paddle/phi/infermeta/binary.cc\\nindex53b3b00286a5..c411e955a1c7100644\\n---a/paddle/phi/infermeta/binary.cc\\n+++b/paddle/phi/infermeta/binary.cc\\n@@-2735,6+2735,29@@voidSearchsortedInferMeta(constMetaTensor&sorted_sequence,\\n}\\n}\\n\\n+voidShuffleBatchInferMeta(constMetaTensor&x,\\n+constMetaTensor&seed,\\n+intstartup_seed,\\n+MetaTensor*out,\\n+MetaTensor*shuffle_idx,\\n+MetaTensor*seed_out\\n+\\n+){\\n+out->share_dims(x);\\n+out->share_lod(x);\\n+seed_out->share_dims(seed);\\n+seed_out->share_lod(seed);\\n+shuffle_idx->set_dims(phi:',\n",
       " ':make_ddim({-1}));\\n+}\\n+\\n+voidShuffleBatchGradInferMeta(constMetaTensor&shuffle_idx,\\n+constMetaTensor&out_grad,\\n+intstartup_seed,\\n+MetaTensor*x_grad){\\n+x_grad->share_dims(out_grad);\\n+x_grad->share_lod(out_grad);\\n+}\\n+\\nvoidSequenceMaskInferMeta(constMetaTensor&x,\\nconstMetaTensor&max_len_tensor,\\nintmaxlen,\\ndiff--gita/paddle/phi/infermeta/binary.hb/paddle/phi/infermeta/binary.h\\nindexe7b646d66453..5421c0ac0a33100644\\n---a/paddle/phi/infermeta/binary.h\\n+++b/paddle/phi/infermeta/binary.h\\n@@-430,6+430,20@@voidSequenceMaskInferMeta(constMetaTensor&x,\\nintout_dtype,\\nMetaTensor*y);\\n\\n+voidShuffleBatchInferMeta(constMetaTensor&x,\\n+constMetaTensor&seed,\\n+intstartup_seed,\\n+MetaTensor*out,\\n+MetaTensor*shuffle_idx,\\n+MetaTensor*seed_out\\n+\\n+);\\n+\\n+voidShuffleBatchGradInferMeta(constMetaTensor&shuffle_idx,\\n+constMetaTensor&out_grad,\\n+intstartup_seed,\\n+MetaTensor*x_grad);\\n+\\nvoidSoftmaxMaskFuseInferMeta(constMetaTensor&x,\\nconstMetaTensor&mask,\\nMetaTensor*out);\\ndiff--gita/test/white_list/pir_op_test_no_check_listb/test/white_list/pir_op_test_no_check_list\\nindex99e67a1dc2d0..00d8f054df13100644\\n---a/test/white_list/pir_op_test_no_check_list\\n+++b/test/white_list/pir_op_test_no_check_list\\n@@-9,3+9,4@@test_randperm_op\\ntest_seed_op\\ntest_uniform_random_bf16_op\\ntest_uniform_random_inplace_op\\n+test_shuffle_batch_op\\ndiff--gita/test/white_list/pir_op_test_white_listb/test/white_list/pir_op_test_white_list\\nindexd1c3605ca618..14e30381cd28100644\\n---a/test/white_list/pir_op_test_white_list\\n+++b/test/white_list/pir_op',\n",
       " '_test_white_list\\n@@-269,6+269,7@@test_sgd_op\\ntest_shape_mkldnn_op\\ntest_shape_op\\ntest_shard_index_op\\n+test_shuffle_batch_op\\ntest_sigmoid_cross_entropy_with_logits_op\\ntest_sign_op\\ntest_size_op\\n']"
      ]
     },
     "execution_count": 126,
     "metadata": {},
     "output_type": "execute_result"
    }
   ],
   "source": [
    "changed_codes = r.text.replace(\" \",\"\")\n",
    "gap_length = 1500\n",
    "cut_str = [changed_codes[i:i+gap_length] for i in range(0, len(changed_codes), gap_length)]\n",
    "cut_str"
   ]
  },
  {
   "cell_type": "code",
   "execution_count": 13,
   "id": "840f7c51-62bd-431f-8ad6-600bade5b514",
   "metadata": {},
   "outputs": [],
   "source": [
    "from llm_chat import *"
   ]
  },
  {
   "cell_type": "code",
   "execution_count": 136,
   "id": "9630a950-9b46-47f6-ab3d-b5d18e452007",
   "metadata": {},
   "outputs": [
    {
     "data": {
      "text/plain": [
       "{'得分': 8,\n",
       " '评分理由': \"这份代码的修改涉及到了一些重要的功能，如新增了一个'shuffle_batch'操作，并且这个操作在正向和反向传播中都有使用。代码修改难度较大，需要深入理解PaddlePaddle框架的操作和实现。因此，这份代码的修改非常重要，得分为8分。\"}"
      ]
     },
     "execution_count": 136,
     "metadata": {},
     "output_type": "execute_result"
    }
   ],
   "source": [
    "codes = cut_str[0]\n",
    "prompt = \\\n",
    "f\"\"\"\n",
    "你是百度公司的员工，你之前是程序员，现在是产品经理，你对于代码和产品都非常了解，你将根据github的代码diff信息给代码进行打分以评价这份代码的重要程度。\n",
    "你对代码的评价和这段代码的修改难度和重要程度等等因素都有关系。你需要非常具有发散性思维来考虑并给出具体的得分数值。有些代码变动非常困难并重要，有些则非常简单。\n",
    "请以Json形式给出回复，Json返回的内容格式为：\n",
    "{str('{')}\"\n",
    "\"得分\":float\n",
    "\"评分理由\":str\n",
    "{str('}')}\n",
    "得分的取值介于0到10。\n",
    "代码中以`+`开头的行是这次改动增加的行，`-`开头的行是这次改动删除的行，其他符号开头的代码仅用于提供上下文信息。你需要进行评价的代码是：{codes}\n",
    "\"\"\"\n",
    "result = get_llm_json_answer(prompt)\n",
    "result"
   ]
  },
  {
   "cell_type": "code",
   "execution_count": 137,
   "id": "78156165-f7a7-4bab-9046-22238f695ffe",
   "metadata": {},
   "outputs": [
    {
     "data": {
      "text/plain": [
       "(7.5,\n",
       " '这段代码变动涉及到增加和删除了一些操作，对原有操作进行了修改，并添加了新的操作。从代码diff信息来看，变动比较重要，且具有一定的难度。因此，我给这段代码打8分。这是一段非常重要的代码，它涉及到一种新的操作（shuffle_batch）的实现，这个操作可能对模型的训练和性能有重要影响。代码修改难度较大，需要对原有的代码有深入理解，并清楚知道shuffle_batch操作的功能和实现方式。因此，这份代码的重要程度和修改难度都较高，得分为8.5。该代码段涉及多个函数改动，涉及了新的函数定义以及已有函数的修改。其中新增了`ShuffleBatchInferMeta`、`ShuffleBatchGradInferMeta`和`SoftmaxMaskFuseInferMeta`等函数定义，并对已有的`SequenceMaskInferMeta`函数进行了修改。改动难度适中，但这些新增函数和修改的函数涉及到数据维度和梯度的计算，对模型的训练和优化可能产生重要影响。因此，整体来看，这段代码的重要程度较高，得分为7。这段代码新增了一个测试操作`test_shuffle_batch_op`，该操作可能对整体性能和结果有一定影响，但具体影响程度需要进一步评估。代码修改难度适中，因此得分为6.5。')"
      ]
     },
     "execution_count": 137,
     "metadata": {},
     "output_type": "execute_result"
    }
   ],
   "source": [
    "get_score_of_a_change(r.text)"
   ]
  },
  {
   "cell_type": "code",
   "execution_count": 14,
   "id": "35c1fc56-3093-4858-a749-e81afa4c69e1",
   "metadata": {},
   "outputs": [
    {
     "data": {
      "text/plain": [
       "{59637: {'title': '[PIR]Fix cache program',\n",
       "  'id': 59637,\n",
       "  'user': NamedUser(login=\"kangguangli\"),\n",
       "  'score': 7.2727272727272725,\n",
       "  'comments': '这段代码修改难度较大，涉及条件判断和变量赋值等操作，需要考虑不同情况下的执行效果。代码修改后的分支输出复制过程更加清晰，增加了对输出变量的可读性和可维护性，同时也提高了代码的健壮性和容错性。这段代码修改涉及到代码逻辑的变更，并且涉及到多种类型变量的处理，修改难度较大。具体来说，这段代码在判断变量的类型后，对不同类型的变量进行不同的操作，比如对于`phi::DenseTensor`类型的变量，它会使用`ShareDataWith`方法来共享数据，对于`phi::TensorArray`类型的变量，它会将数组清空并赋值。如果变量类型不是这两种之一，程序会抛出一个未实现的错误。因此，这段代码的重要程度较高。该代码段在原有基础上增加了一些判断语句，以处理不同类型的数据输入，增强了代码的健壮性。修改难度适中，重要程度较高。该代码段增加了对phi::TensorArray类型的支持，这是一个重要的改动。它使该函数能够处理更多的数据类型。使用发散性思维考虑，这个改动的难度相对较高，因为需要处理新的数据类型。因此，得分8分。这段代码看起来是C++编写的，它涉及一种特殊的操作转换器，能够对计算图中的操作进行转换。代码逻辑严谨，流程清晰，对于代码的理解和维护具有良好的帮助。同时，这段代码的修改难度较高，因为它涉及到对计算图的操作和转换，需要深入理解计算图和操作转换的相关知识。因此，我给出这段代码8.5分的高分。这份代码的修改难度和重要程度中等，代码变动增加了对LOD数组长度的操作，使得代码更加完善。这段代码的修改难度和重要程度都较高。代码中涉及到了对变量的检查、变量的定义和赋值、以及对异常的处理。同时，这段代码也涉及到了对一些关键变量的操作，如IR_ENFORCE，VLOG等，这些操作通常不会轻易变动，一旦变动必然涉及到程序核心逻辑的改变，因此该代码块的修改难度和重要程度都较高，得分8.5。这段代码的修改难度和重要程度都比较高。代码中增加了对输入变量类型的检查，并针对不同的输出变量类型选择了不同的目标操作名称。此外，还增加了一些异常处理机制。整体上，这段代码的修改比较复杂，但非常有助于提高代码的稳定性和正确性。因此，我给予这段代码8分的评分。这段代码的修改难度和重要程度中等。代码变动增加了对新的操作`slice`, `lod_array_length`, `write_to_array`, `read_from_array`的支持，并且移除了对`mul_grad`操作的转译处理。这些变动对于代码的功能和性能可能会有一定影响，但具体影响程度需要根据实际应用场景来确定。因此，我给这段代码的得分为7分。这段代码的修改难度和重要程度中等。代码修改涉及到对函数类型的修改，增加了对`ConditionBlockCombination::GetInputNamesForIfOp()`函数的定义和实现，以及对`ProgramTranslator::TranslateBlock()`函数的修改。这个修改可能会对现有功能产生影响，需要进行充分的测试和验证。该代码段涉及到了一些复杂的操作，例如变量的定义、上下文管理、条件判断和循环等等。修改难度较高，需要对代码的逻辑和上下文有深入的理解。同时，这段代码的修改对于程序的运行和结果有着重要的影响，因为它涉及到条件判断和循环的修改，可能会对程序的流程和执行效率产生影响。因此，我认为这份代码的重要程度较高，得分为8。这段代码的修改难度和重要程度中等。代码修改的内容是为了适应新的变量查找方式，并增加了对变量类型的判断和处理。代码逻辑清晰，修改合理，但部分细节可能需要进一步调整和完善。总体来说，这段代码的修改比较重要，对程序的运行和性能有一定的影响。这段代码的修改难度和重要程度中等。代码变动增加了对输入类型和可选输入类型的检查，使得代码更加健壮。同时，通过使用模板，可以方便地适应不同的输入类型和标准。这种代码变动对于代码的稳定性和安全性有重要的影响。因此，我给这份代码打7.5分。代码变动涉及到对代码逻辑的修改，修改涉及到对代码的理解和实现，需要一定的发散性思维和专业知识进行评价。代码变动涉及到对一些关键变量的检查和约束，修改难度较大，需要对原有的代码逻辑进行深入理解。同时，这段代码的修改对于代码的稳定性和正确性有很大的影响，因此得分较高。这份代码增加了7个新的操作类型定义，并且对每个操作都有相应的功能描述和接口定义，改动难度适中，代码变动重要程度较高。因此，这份代码的得分为8分。从代码diff中可以看到，新增加了一些操作类型，例如 `paddle::dialect::SliceArrayOp`，`paddle::dialect::SliceArrayDenseOp`，`paddle::dialect::AssignArray_Op`等，这些都是重要的改动。但是考虑到改动的内容和复杂度，以及这些新增的类与原有的类相似度较高，因此评分为6。这是一段修改过的代码，从改动的难易程度和重要性来看，可以打5分。代码变动增加了一些新的变量和函数调用，但整体结构并未发生太大变化。修改的部分主要涉及数据类型的转换和函数参数的处理，对于代码整体功能的影响可能不大。评分时考虑了代码的可读性、可维护性和健壮性等因素。这段代码主要定义了一些函数，对于输入的元数据(MetaTensor)进行操作并输出结果，并没有涉及到复杂的逻辑或算法。修改难度和重要程度都相对较低，因此得分较低。这段代码改动相对较大，涉及多个函数和逻辑的修改，其中包括对函数参数的修改以及对异常处理逻辑的修改。代码变动难度中等，但重要性较高，因为这些修改涉及到代码的稳定性和正确性。在给定代码diff信息的情况下，得分为8.5。这段代码的修改涉及到对CMakeLists.txt和dygraph_to_static_utils.py文件的修改，主要增加了对一些测试用例的环境变量设置。考虑到修改的代码量适中，且修改的内容对于代码的运行和功能实现有一定的影响，因此给出7.5分的评分。修改的难度相对较低，主要是对文件内容的修改和测试用例的调整。这段代码的修改难度和重要程度中等，对代码的结构和功能有一定的影响。评分理由如下：\\n\\n1. 增加了一个新的类`TestForInRangeConfig`，并把之前的`TestForInRange`类继承自新的类，这有助于更好地组织和管理代码。\\n2. 在`TestForInRangeConfig`类中，增加了`set_input`和`set_test_func`方法，用于设置输入和动态图函数，这有助于更好地测试和验证代码的功能。\\n3. 在`TestForIterVarList`和`TestForEnumerateVarList`类中，也增加了`set_test_func`和`test_transformed_result_compare`方法，用于测试和验证代码的转换结果。\\n4. 通过使用装饰器`@test_sot_only`，可以针对特定的测试用例进行特殊处理，比如只针对特定的情况进行测试或验证。\\n5. 通过增加新的类和方法，代码结构更加清晰，功能更加完善，这有助于提高代码的可维护性和可读性。\\n6. 虽然代码的修改难度不大，但是通过增加新的类和方法，代码的重要程度有所提高，因为这有助于提高代码的健壮性和可靠性。\\n综合考虑，我给这段代码的得分为7.5分。该代码修改涉及的模块包括 paddle 和 Dy2StTestBase，具有一定的难度。在原来的类中添加了 compare_transformed_static_result 方法，同时修改了一些方法的参数和实现。同时增加了新的类和方法。但修改的部分主要涉及对已有功能的调整和优化，并没有引入新的核心功能或大的改动。因此，代码的重要程度相对较高，但修改难度相对较低。本次代码评分为 5.5 分。'},\n",
       " 59636: {'title': '【PIR OpTest Fix No.10】 fix test_row_conv_op',\n",
       "  'id': 59636,\n",
       "  'user': NamedUser(login=\"xingmingyyj\"),\n",
       "  'score': 7.75,\n",
       "  'comments': \"该代码变动涉及到新的操作符'row_conv'的增加和旧的'rrelu'操作的删除，具有一定的实现难度和重要性。代码修改涉及到操作符的定义、参数传递、输出定义以及反向传播等核心部分，需要对现有代码进行深入理解和修改。同时，新增加的操作符'row_conv'需要实现前向计算、反向传播以及参数的更新等功能，具有一定的复杂度。因此，该代码变动得分7.5分。这份代码变动涉及到对反向传播操作和前向传播操作的修改，同时增加了新的操作RowConv和RowConvGrad。从代码diff来看，改动难度较大，但重要程度较高。新增加的操作RowConv和RowConvGrad可能是对某一重要操作或算法的改进或优化，对于整体代码的执行效率和性能可能有积极影响。同时，删除的操作GetTensorFromSelectedRowsOp可能是被优化或替代的操作，其重要程度相对较低。综合来看，这份代码的重要程度较高，得分为8.5。这段代码看起来是在实现一些特定的张量操作，例如重复、滤波等。代码修改难度和重要程度都较高。具体来说，这段代码对MetaTensor类进行了一些操作，包括设置维度、共享LOD等。虽然不是核心算法，但这些操作对于实现高效的张量操作是必要的。因此，我给予这段代码7.5分的评分。这段代码增加了一个新的测试用例，即`test_row_conv_op`，这可能表明该功能在未来的更新中可能会被使用或者该功能存在一些尚未解决的问题。这个改动的重要性因具体情况而异，但考虑到代码的更新和维护，可以给出一个相对较高的评分。\"},\n",
       " 59635: {'title': '[PIR] fix_cache_program',\n",
       "  'id': 59635,\n",
       "  'user': NamedUser(login=\"kangguangli\"),\n",
       "  'score': 8.0,\n",
       "  'comments': '这段代码的修改涉及到代码逻辑的改变，去除了一个特定的测试用例，这可能会对程序的某些功能产生重要影响。修改的难度相对中等，因为需要理解代码的上下文和功能，并确定删除的测试用例是否对其他功能产生影响。这个修改的评分介于7到9之间，但由于这个修改可能影响到程序的功能，因此最终评分为8。'},\n",
       " 59634: {'title': 'add profiler_range',\n",
       "  'id': 59634,\n",
       "  'user': NamedUser(login=\"AndSonder\"),\n",
       "  'score': 8.5,\n",
       "  'comments': '这份代码的改动难度和重要程度较高，它增加了一些新的功能，同时修改了原有的函数，使其成为上下文管理器。该修改对代码的影响较大，同时增加了代码的可读性和可维护性。由于该修改涉及到代码的功能实现和代码结构的变化，因此得分为8.5分。'},\n",
       " 59633: {'title': '[PIR] Fix jit setitem',\n",
       "  'id': 59633,\n",
       "  'user': NamedUser(login=\"kangguangli\"),\n",
       "  'score': 7.434782608695652,\n",
       "  'comments': '这段代码修改难度较大，涉及的条件判断和变量操作较为复杂，需要对代码的理解深入。同时这段代码对于框架的执行流程做了重要改动，可能对整个应用的运行产生重要影响。因此，我给这段代码打8分。这段代码修改涉及到对不同数据类型的处理，并且对代码的逻辑进行了优化，增加了代码的健壮性和可读性。其中，对`phi::DenseTensor`、`phi::TensorArray`、`phi::SelectedRows`和`VariableRefArray`等不同数据类型的处理，以及对变量的读取和修改都考虑得非常周到。同时，对不支持的数据类型进行了抛出异常的处理，使得代码更加健壮。整个代码修改的难度适中，对于已有的功能进行了优化和增强。该代码变动涉及到了对不同数据类型的处理，并增加了错误处理机制，提高了代码的健壮性。同时，该变动也增加了代码的复杂性，但这是为了适应更多的输入类型和处理更多的情况。因此，这份代码的重要程度较高，得分为8。这段代码增加了对`phi::TensorArray`类型的支持，并处理了未初始化的Tensor，代码变动较大且重要，但实现难度不大。这份代码的修改难度和重要程度中等，代码变动增加了对LOD数组长度的操作，对于某些特定的计算场景有很好的帮助。代码修改符合代码规范，可读性较好，但在一些细节上可能需要进一步的优化。代码变动相对简单，涉及的改动主要是对输入变量的检查和处理，代码逻辑相对清晰，改动难度不大，但这段代码对于整个程序的运行可能有着一定的作用，因此重要性中等，综合打分5.5分。这份代码看起来是在进行一些操作，并进行了错误检查和变量处理。代码的逻辑比较清晰，变量和函数的使用也较为合理。但具体评分还需要了解更多上下文信息，比如代码的修改难度、代码的复杂度、代码的健壮性等。这段代码的修改难度和重要程度都比较高。代码中增加了对输入变量类型的检查，并针对不同的输出变量类型选择了不同的目标操作名称。此外，还增加了一些异常处理机制。整体上，这段代码的修改比较复杂，但非常有助于提高代码的稳定性和正确性。因此，我给予这段代码8分的评分。这段代码的修改难度和重要程度中等。代码变动增加了对新的操作`slice`, `lod_array_length`, `write_to_array`, `read_from_array`的支持，并且移除了对`mul_grad`操作的转译处理。这些变动对于代码的功能和性能可能会有一定影响，但具体影响程度需要根据实际应用场景来确定。因此，我给这段代码的得分为7分。这段代码的修改难度和重要程度中等。代码修改涉及到对函数类型的修改，增加了对`ConditionBlockCombination::GetInputNamesForIfOp()`函数的定义和实现，以及对`ProgramTranslator::TranslateBlock()`函数的修改。这个修改可能会对现有功能产生影响，需要进行充分的测试和验证。代码的改动难度和重要程度适中。改动内容包括对变量的创建、赋值、比较、循环等操作，涉及逻辑较为复杂，但代码结构清晰，易于理解。这段代码的修改难度和重要程度中等。代码修改的内容主要涉及对变量查找和数据类型的处理，其中增加了一些日志输出以帮助调试。整体来看，代码的逻辑流程没有发生太大变化，但修改后的代码更加健壮，对变量的类型处理更加严谨。评分7.5分。这段代码的修改难度和重要程度中等。代码变动增加了对输入类型和可选输入类型的检查，使得代码更加健壮。同时，通过使用模板，可以方便地适应不同的输入类型和标准。这种代码变动对于代码的稳定性和安全性有重要的影响。因此，我给这份代码打7.5分。代码变动涉及到对代码逻辑的修改，但并没有引入新的功能或者修复bug，因此重要性相对较低，但修改难度相对较高。这段代码变动涉及对函数`AssignArray_Op::VerifySig()`的修改，增加了对输入和输出的类型验证，可能提高了代码的健壮性和正确性。同时，该函数还包含一些日志输出，有助于调试和错误排查。因此，我认为这段代码的重要程度较高。新增了几个Array相关的操作类型，以及对应的操作信息，这些操作可能会对PaddlePaddle的运算和数据处理能力产生影响，非常重要。同时，这段代码也增加了对应的操作信息获取方法，以及对操作的一些基本验证和数据类型的校验等，代码实现逻辑清晰，易于理解。该代码变动涉及到新增了几个操作类型，并对一些操作进行了注册。这表明代码的重要性和难度都较高。具体来说，代码增加了几个新的操作类型，例如`paddle::dialect::SliceArrayOp`、`paddle::dialect::SliceArrayDenseOp`、`paddle::dialect::AssignArray_Op`等，这些操作类型可能涉及到新的算法实现或功能扩展，因此具有较高的重要性。同时，代码中还涉及到的操作注册过程，这需要考虑到与已有操作的兼容性和性能优化等问题，因此也具有一定的难度。综合考虑，给出8.5分的评分。代码修改难度适中，重要程度较高。涉及类型转换、函数调用、条件判断等多方面操作，对原有功能进行了较为复杂的修改和优化。同时，对代码的稳定性和可读性有一定影响。这份代码涉及到多个文件和多个函数，包含了对于代码库的修改和增加。根据代码的修改难度和重要程度，这份代码的重要程度较高。代码涉及到的改动包括对于函数和变量的增加、删除和修改，以及对于文件结构和代码逻辑的修改。这些改动对于代码库的影响较大，需要仔细评估和测试。因此，这份代码的得分为8。这段代码的修改难度和重要程度中等，对代码的结构和逻辑进行了调整，同时引入了一些新的变量和函数。根据代码的变动和上下文信息，可以判断出该代码改动对于程序的功能和性能有一定的影响。综合考虑，给出7.5分的评分。这段代码的修改涉及到多个测试文件的修改，包括CMakeLists.txt、dygraph_to_static_utils.py和test_for_enumerate.py等文件，对代码的测试和执行环境进行了调整。修改涉及到对代码的增删，并且对代码的执行顺序和环境进行了调整，因此修改难度较大，但这个修改对于代码的稳定性和测试的完备性具有积极作用。因此，综合考虑到修改的难度和重要性，我给这段代码打7.5分。这份代码的修改难度和重要程度中等。代码增加了两个类，并对原有类进行了重命名，增加了对输入和测试函数的设置，以及对测试函数的调用。代码修改清晰，易于理解，但有些细节需要仔细审查。这段代码的修改难度和重要程度中等。它涉及到对多个函数的修改，包括增加和删除行，以及更改类名和函数名。其中，新增的函数`compare_transformed_static_result`可能是一个重要的功能增强，因为它比较动态图和静态图的结果。此外，使用`@test_sot_only`装饰器表明这个测试函数仅用于测试特定的功能。总体而言，这个代码评分为7分，表示这是一个重要的修改，但并不是特别困难。'},\n",
       " 59632: {'title': '【PIR OpTest Fix No.9】 fix test_sequence_mask',\n",
       "  'id': 59632,\n",
       "  'user': NamedUser(login=\"xingmingyyj\"),\n",
       "  'score': 6.75,\n",
       "  'comments': '新增了一些重要功能，如op:sequence_mask等，这些功能对于某些特定的操作非常重要，它们可能涉及到一些新的计算或者处理方式。因此，代码修改难度和重要程度较高，得分为6。这段代码的修改涉及到增加了一个名为`test_sequence_mask`的测试用例，这表明这段代码的修改具有一定的新增功能或改进。代码修改的难度适中，需要理解原有代码的结构和逻辑，同时需要掌握测试用例的编写和测试环境的搭建。该修改对于整个代码库来说具有中等的重要性，因为测试用例的增加能够提高代码的稳定性和可靠性。'},\n",
       " 59631: {'title': '【PIR OpTest Fix No.8】 fix test_shuffle_batch_op',\n",
       "  'id': 59631,\n",
       "  'user': NamedUser(login=\"xingmingyyj\"),\n",
       "  'score': 7.75,\n",
       "  'comments': '这份代码变动涉及到对API的修改，增加了新的操作`shuffle_batch`，并对原来的`slice`操作进行了移除。这种修改涉及到对API的调整，可能会对使用这些API的代码产生影响，因此修改难度较大。同时，新的操作`shuffle_batch`在功能上可能比原来的操作更加丰富或者使用更加方便，因此这份代码变动的重要性也比较大。综合考虑，这份代码变动的得分较高。这是一段非常重要的代码，它涉及到一种新的操作（shuffle_batch）的实现，这个操作可能对模型的训练和性能有很大的影响。代码的修改难度较大，需要深入理解操作和框架的实现细节。因此，我会给这个代码打出8.5分的高分。这段代码是在原有的基础上增加了一些函数，并对原有的函数进行了修改，可以看出这份代码的重要性比较大，而且修改的难度较大。新增的函数有：ShuffleBatchInferMeta、ShuffleBatchGradInferMeta、SoftmaxMaskFuseInferMeta，修改的函数有：SequenceMaskInferMeta。修改的难度较大，因为需要考虑到原有的代码逻辑和数据结构，同时还需要保证新代码的正确性和稳定性。因此，我给这份代码打8分，评分理由是：代码修改难度较大，新增的函数也增加了代码的重要性和复杂性。这段代码新增了一个测试操作`test_shuffle_batch_op`，这个操作在原有测试操作的基础上增加了对shuffle_batch操作的测试。代码改动难度适中，这个改动的重要性在于完善了测试操作的功能，增强了代码的健壮性。因此，这段代码的重要程度得分为6.5。'},\n",
       " 59630: {'title': 'fix',\n",
       "  'id': 59630,\n",
       "  'user': NamedUser(login=\"Galaxy1458\"),\n",
       "  'score': 7.0,\n",
       "  'comments': '这段代码的修改难度和重要程度中等。代码变动包括增加和删除了一些关键部分，涉及到了测试框架的改变和测试用例的调整。虽然修改的行数不多，但影响范围可能较广，需要仔细评估。得分7分是因为这个修改在代码库中产生了一定的影响，需要仔细审查和测试以避免潜在的问题。'},\n",
       " 59628: {'title': '[CodeStyle][ruff] clean `python/paddle/__init__.py` and `python/paddle/base/__init__.py` step: 7',\n",
       "  'id': 59628,\n",
       "  'user': NamedUser(login=\"gouzil\"),\n",
       "  'score': 7.45,\n",
       "  'comments': '这段代码的修改涉及到版本信息的导入方式和一些包依赖的修改，以及一些模块的导入方式，整体来说修改难度不大，但这段代码的修改对于代码的运行和后续的维护有着积极的意义，因此我会给这段代码一个中等的评分。这份代码涉及多个模块的导入，并添加了一些新的模块，如分布式、文本、视觉等。同时删除了部分不再使用的模块。根据代码的修改难度和涉及的模块重要性，我给这份代码的评分为6.5分。这段代码涉及到了模块的导入和函数的增加，对现有代码进行了大量修改。其中，增加了一些函数和模块的导入，删除了不相关的模块和函数。代码修改难度适中，重要程度较高，因为这些修改涉及到一些核心功能和算法的实现。这段代码主要添加了一些函数，同时也移除了一些函数，涉及到的函数大多是在 Tensor 操作中常见的，如 reshape, cast, concat 等。因此，这段代码的重要程度较高。这段代码涉及的函数非常广泛，其中包括一些常用的数学函数，如三角函数、指数函数、对数函数等。代码修改的难度和重要程度都比较高，因此得分为7.5。\\n\\n具体来说，代码中增加了一些函数，如`count_nonzero`、`logit`等，删除了一些函数，如`log_10`等，同时修改了一些函数的实现，如`log`、`square`等。这些修改可能是为了优化性能、提高精度或者增加新的功能。\\n\\n需要注意的是，代码中涉及的函数非常多，有些函数可能比较复杂，因此对代码的理解需要一定的数学和编程知识。这段代码涉及的改动非常广泛，包括函数的增加、删除以及修改。考虑到改动涉及的函数大部分是基础的数学和随机函数，这个改动的难度和重要性都相对较高。因此，这个改动得到6.5分。具体来看，改动中增加了一些新的函数和功能（如`check_shape`、`index_sample`、`index_select`等），删除了一些旧的函数（如`bernoulli`、`standard_normal`等），同时对一些原有的函数进行了修改（如`argmax`、`argmin`、`argsort`等）。这些改动都反映了对于代码的持续优化和更新。这份代码的修改难度和重要程度中等。代码中涉及到了模块的导入和条件判断，对代码的结构和功能有一定影响。其中，增加了一些模块的导入语句，删除了部分模块的导入语句，还对某些模块进行了重新排序。此外，还增加了一个条件判断语句来设置特定标志位。整体来说，修改的难度不大，但会对代码的功能和运行产生一定影响。这份代码的修改难度和重要程度中等。代码变动涉及到多个模块的导入，对代码结构有一定影响，但具体实现细节没有太大改动。这份代码涉及多个模块的修改，包括导入语句的调整、函数和变量的增加和删除等，因此代码的重要程度较高。同时，由于涉及多个模块的修改，代码的修改难度也相对较大。但是，由于代码的结构相对清晰，修改难度并没有达到特别高的程度。综合考虑，我给这份代码的得分为8.5分。这份代码变动涉及到多个重要的模块和功能，包括训练器描述（TrainerDesc）、参数属性（ParamAttr）、权重归一化参数属性（WeightNormParamAttr）、多训练器（MultiTrainer）、流水线训练器（PipelineTrainer）和反向传播（append_backward）等。其中，对训练器描述的修改可能涉及到对训练过程的重要修改，对参数属性和权重归一化的修改可能影响到模型的训练效果和性能。此外，对Tensor的重新定义和对启用命令式编程（enable_imperative）的设置也可能会对代码的其他部分产生重要影响。因此，这份代码的重要性和修改难度都相对较高，得分为8.5。'},\n",
       " 59627: {'title': '【PIR API adaptor No.75-77】Migrate some ops into pir',\n",
       "  'id': 59627,\n",
       "  'user': NamedUser(login=\"longranger2\"),\n",
       "  'score': 7.625,\n",
       "  'comments': '该代码变动涉及到多个文件和模块，对代码的修改难度和重要程度进行了综合考虑。代码变动涉及到对一些函数的修改，增加了对`in_dynamic_or_pir_mode()`的判断，表明代码的动态特性或PIR模式对代码的执行有一定的影响。同时，代码变动涉及到文件间的合并，对代码的结构和可读性产生了一定的影响。综合来看，该代码变动相对较大，但考虑到其对代码执行和可维护性的改进，给予了较高的评分。该代码块在重要程度上属于中等的变动。变动涉及了多个文件的多个部分，并且涉及到了一些核心逻辑的修改。这样的修改通常需要开发者对原有的代码逻辑有较深的理解，并且在修改过程中需要充分考虑可能带来的影响。这是一段非常重要的代码修改，因为它涉及到PaddlePaddle中正则化的使用和动态图与静态图的对比测试。代码的修改难度较大，需要对PaddlePaddle框架有深入的理解。同时，这段代码对于保证PaddlePaddle的正确性和性能有重要作用。这份代码变动涉及到PaddlePaddle框架的特性使用，且使用的是PIR_API，该API与PaddlePaddle的底层计算库有很大关系。这种修改涉及到对框架底层的深入理解和相关特性的使用，对代码的理解和修改难度较大，但这种修改对于提升代码的运行效率或者进行更深入的算法优化有重要作用。因此，这份代码修改的得分介于7到8之间。'}}"
      ]
     },
     "execution_count": 14,
     "metadata": {},
     "output_type": "execute_result"
    }
   ],
   "source": [
    "import traceback\n",
    "import requests\n",
    "\n",
    "g_helper.get_ccashe()\n",
    "cache_pr = g_helper.get_ccashe(\"paddle\")\n",
    "pr_list = []\n",
    "for pr in cache_pr:\n",
    "    title = pr.title\n",
    "    id = pr.number\n",
    "    user = pr.user\n",
    "    diff_url = pr.diff_url\n",
    "    try:\n",
    "        r = requests.get(diff_url)\n",
    "        score, comments = get_score_of_a_change(r.text)\n",
    "    except:\n",
    "        score = -1\n",
    "        comments = \"\"\n",
    "        print(traceback.format_exc())\n",
    "    pr_list.append({\"title\":title, \"id\":id, \"user\":user, \"score\":score, \"comments\":comments})\n",
    "\n",
    "pr_list.sort(key=lambda x:x['score'],reverse=True)"
   ]
  },
  {
   "cell_type": "code",
   "execution_count": 23,
   "id": "d24cce9e-f4fc-416f-86dd-7bb7f479f12a",
   "metadata": {},
   "outputs": [],
   "source": []
  },
  {
   "cell_type": "code",
   "execution_count": 10,
   "id": "466c7ba3-3c6f-429a-937a-2af88e593a19",
   "metadata": {},
   "outputs": [
    {
     "data": {
      "text/plain": [
       "datetime.datetime(2023, 12, 1, 0, 0)"
      ]
     },
     "execution_count": 10,
     "metadata": {},
     "output_type": "execute_result"
    }
   ],
   "source": [
    "datetime(2023, 11, 30) + timedelta(days=1)"
   ]
  },
  {
   "cell_type": "markdown",
   "id": "bf95af67-9b1b-45d1-a9bf-fee851ba4ab7",
   "metadata": {},
   "source": [
    "# 仅测试样式"
   ]
  },
  {
   "cell_type": "code",
   "execution_count": 4,
   "id": "416479b2-e995-4a90-b5a0-c0e7ec3e5769",
   "metadata": {},
   "outputs": [],
   "source": [
    "from statistic_helper import StatisticHelper\n",
    "from layout_helper import LayoutHelper"
   ]
  },
  {
   "cell_type": "code",
   "execution_count": 5,
   "id": "363f8220-3690-47cd-9065-bbb4833d371e",
   "metadata": {},
   "outputs": [
    {
     "name": "stdout",
     "output_type": "stream",
     "text": [
      "make score in 59639, total pr number is 1\n"
     ]
    }
   ],
   "source": [
    "s_helper = StatisticHelper(date=(2023, 12, 1))\n",
    "s_helper.refresh_number(g_helper)\n",
    "s_helper.get_score_of_pr(g_helper)"
   ]
  },
  {
   "cell_type": "code",
   "execution_count": 6,
   "id": "ef12d862-e72b-45d1-b3ba-78007fad71a3",
   "metadata": {},
   "outputs": [],
   "source": [
    "l_helper = LayoutHelper()\n",
    "l_helper.generate_layout(s_helper)\n",
    "l_helper.Export2MarkdownFile()"
   ]
  },
  {
   "cell_type": "markdown",
   "id": "ab2333ea-c3c9-4311-acc7-7789e71c40bc",
   "metadata": {},
   "source": [
    "# 删除引入的库"
   ]
  },
  {
   "cell_type": "code",
   "execution_count": 8,
   "id": "caf5e2ee-7fac-4346-99fd-bede758f9cb7",
   "metadata": {},
   "outputs": [
    {
     "name": "stdout",
     "output_type": "stream",
     "text": [
      "llm_chat\n"
     ]
    }
   ],
   "source": [
    "import sys\n",
    "delete_list = [\"llm_chat\"]\n",
    "keys=[]\n",
    "for k in sys.modules.keys():\n",
    "    if \"llm_chat\" in k:\n",
    "        print(k)\n",
    "        keys.append(k)\n",
    "for k in keys:\n",
    "    del sys.modules[k]\n"
   ]
  },
  {
   "cell_type": "code",
   "execution_count": null,
   "id": "fb004eec-7ccb-4958-90b0-855d4174be73",
   "metadata": {},
   "outputs": [],
   "source": []
  },
  {
   "cell_type": "code",
   "execution_count": null,
   "id": "0bcd857a-5392-40c6-8709-7217c5d46015",
   "metadata": {},
   "outputs": [],
   "source": []
  }
 ],
 "metadata": {
  "kernelspec": {
   "display_name": "Python 3 (ipykernel)",
   "language": "python",
   "name": "python3"
  },
  "language_info": {
   "codemirror_mode": {
    "name": "ipython",
    "version": 3
   },
   "file_extension": ".py",
   "mimetype": "text/x-python",
   "name": "python",
   "nbconvert_exporter": "python",
   "pygments_lexer": "ipython3",
   "version": "3.11.6"
  }
 },
 "nbformat": 4,
 "nbformat_minor": 5
}
